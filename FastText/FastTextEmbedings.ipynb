{
  "cells": [
    {
      "cell_type": "code",
      "execution_count": 5,
      "metadata": {
        "colab": {
          "base_uri": "https://localhost:8080/"
        },
        "id": "4muFFhhyfYA6",
        "outputId": "2ca29ec4-2303-42e5-a7e1-8ad10107051f"
      },
      "outputs": [
        {
          "output_type": "stream",
          "name": "stdout",
          "text": [
            "Looking in indexes: https://pypi.org/simple, https://us-python.pkg.dev/colab-wheels/public/simple/\n",
            "Collecting hazm\n",
            "  Downloading hazm-0.7.0-py3-none-any.whl (316 kB)\n",
            "\u001b[2K     \u001b[90m━━━━━━━━━━━━━━━━━━━━━━━━━━━━━━━━━━━━━━━\u001b[0m \u001b[32m316.7/316.7 kB\u001b[0m \u001b[31m9.5 MB/s\u001b[0m eta \u001b[36m0:00:00\u001b[0m\n",
            "\u001b[?25hCollecting libwapiti>=0.2.1\n",
            "  Downloading libwapiti-0.2.1.tar.gz (233 kB)\n",
            "\u001b[2K     \u001b[90m━━━━━━━━━━━━━━━━━━━━━━━━━━━━━━━━━━━━━━\u001b[0m \u001b[32m233.6/233.6 kB\u001b[0m \u001b[31m21.3 MB/s\u001b[0m eta \u001b[36m0:00:00\u001b[0m\n",
            "\u001b[?25h  Preparing metadata (setup.py) ... \u001b[?25l\u001b[?25hdone\n",
            "Collecting nltk==3.3\n",
            "  Downloading nltk-3.3.0.zip (1.4 MB)\n",
            "\u001b[2K     \u001b[90m━━━━━━━━━━━━━━━━━━━━━━━━━━━━━━━━━━━━━━━━\u001b[0m \u001b[32m1.4/1.4 MB\u001b[0m \u001b[31m46.4 MB/s\u001b[0m eta \u001b[36m0:00:00\u001b[0m\n",
            "\u001b[?25h  Preparing metadata (setup.py) ... \u001b[?25l\u001b[?25hdone\n",
            "Requirement already satisfied: six in /usr/local/lib/python3.9/dist-packages (from nltk==3.3->hazm) (1.16.0)\n",
            "Building wheels for collected packages: nltk, libwapiti\n",
            "  Building wheel for nltk (setup.py) ... \u001b[?25l\u001b[?25hdone\n",
            "  Created wheel for nltk: filename=nltk-3.3-py3-none-any.whl size=1394488 sha256=a722e90cda43447a54c589704c9109b6be8e0707e9d86fe44fde78b77de468ef\n",
            "  Stored in directory: /root/.cache/pip/wheels/ac/62/f6/88933dadcd64a1614894614aa68cf57c4b8e5256acb650b1f1\n",
            "  Building wheel for libwapiti (setup.py) ... \u001b[?25l\u001b[?25hdone\n",
            "  Created wheel for libwapiti: filename=libwapiti-0.2.1-cp39-cp39-linux_x86_64.whl size=180372 sha256=606418996bf25fdd96a869c629fd2dcd11f1c5ad7336c2fa186a565d8c8e33c6\n",
            "  Stored in directory: /root/.cache/pip/wheels/8e/ff/82/9326b96f96f47472e02c453697b225813e4650c0ed4df2cd49\n",
            "Successfully built nltk libwapiti\n",
            "Installing collected packages: nltk, libwapiti, hazm\n",
            "  Attempting uninstall: nltk\n",
            "    Found existing installation: nltk 3.8.1\n",
            "    Uninstalling nltk-3.8.1:\n",
            "      Successfully uninstalled nltk-3.8.1\n",
            "Successfully installed hazm-0.7.0 libwapiti-0.2.1 nltk-3.3\n"
          ]
        }
      ],
      "source": [
        "!pip install hazm"
      ]
    },
    {
      "cell_type": "code",
      "execution_count": 6,
      "metadata": {
        "id": "tHSh7MkXfA33"
      },
      "outputs": [],
      "source": [
        "from sklearn.feature_extraction.text import TfidfVectorizer\n",
        "from hazm import Normalizer, sent_tokenize,word_tokenize,Lemmatizer,Stemmer\n",
        "import numpy as np\n",
        "import torch\n",
        "import re\n",
        "import pandas as pd\n"
      ]
    },
    {
      "cell_type": "code",
      "execution_count": 7,
      "metadata": {
        "id": "ODjpndXQfJYi"
      },
      "outputs": [],
      "source": [
        "normalizer = Normalizer()\n",
        "tfidf_generator = TfidfVectorizer(ngram_range=(1, 1), norm='l2', use_idf=True, preprocessor=normalizer.normalize, tokenizer=word_tokenize)"
      ]
    },
    {
      "cell_type": "code",
      "execution_count": 8,
      "metadata": {
        "id": "C7h7MrScfivl"
      },
      "outputs": [],
      "source": [
        "hazm_normalizer = Normalizer()\n",
        "link_regex = \"(https?:\\/\\/(?:www\\.|(?!www))[a-zA-Z0-9][a-zA-Z0-9-]+[a-zA-Z0-9]\\.[^\\s]{2,}|www\\.[a-zA-Z0-9][a-zA-Z0-9-]+[a-zA-Z0-9]\\.[^\\s]{2,}|https?:\\/\\/(?:www\\.|(?!www))[a-zA-Z0-9]+\\.[^\\s]{2,}|www\\.[a-zA-Z0-9]+\\.[^\\s]{2,})\"\n",
        "\n",
        "def normalize(text: str):\n",
        "    text = re.sub(r\"<(/?p/?|/?br/?|)>\", '', text)\n",
        "    text = re.sub(link_regex, \" \", text)\n",
        "    text = re.sub(\"&?amp\", \" \", text)\n",
        "    text = re.sub(r\"[.,،?؟:;'\\\"/«»@!٬﷼#()<>*_]\", \" \", text)\n",
        "    text = re.sub(\"[\\r\\n]+\", ' ', text)\n",
        "    text = re.sub(\"‌\", \" \", text)    # turn half-space to space in persian\n",
        "    text = re.sub(\"(ن?می)\\s+\", r\"\\1\", text) # attach prefixes of verbs to the verb\n",
        "    text = hazm_normalizer.character_refinement(text)\n",
        "    wierd_pattern = re.compile(\"[\"\n",
        "    u\"\\U0001F600-\\U0001F64F\"  # emoticons\n",
        "    u\"\\U0001F300-\\U0001F5FF\"  # symbols & pictographs\n",
        "    u\"\\U0001F680-\\U0001F6FF\"  # transport & map symbols\n",
        "    u\"\\U0001F1E0-\\U0001F1FF\"  # flags (iOS)\n",
        "    u\"\\U00002702-\\U000027B0\"\n",
        "    u\"\\U000024C2-\\U0001F251\"\n",
        "    u\"\\U0001f926-\\U0001f937\"\n",
        "    u'\\U00010000-\\U0010ffff'\n",
        "    u\"\\u200d\"\n",
        "    u\"\\u2640-\\u2642\"\n",
        "    u\"\\u2600-\\u2B55\"\n",
        "    u\"\\u23cf\"\n",
        "    u\"\\u23e9\"\n",
        "    u\"\\u231a\"\n",
        "    u\"\\u3030\"\n",
        "    u\"\\ufe0f\"\n",
        "    u\"\\u2069\"\n",
        "    u\"\\u2066\"\n",
        "    u\"\\u2068\"\n",
        "    u\"\\u2067\"\n",
        "    \"]+\", flags=re.UNICODE)\n",
        "    text = wierd_pattern.sub(r'', text)\n",
        "    text = re.sub(\"\\s+\", \" \", text)\n",
        "    return text\n",
        "\n",
        "def separate_word(input_text):\n",
        "    return len(input_text.split())\n",
        "\n",
        "# def turn_labels_into_numbers(label: str):\n",
        "#     if label == 'recommended': return 2\n",
        "#     if label == 'not_recommended': return 1\n",
        "#     if label == 'no_idea': return 0"
      ]
    },
    {
      "cell_type": "code",
      "execution_count": 9,
      "metadata": {
        "id": "UdmEraqUhXpq"
      },
      "outputs": [],
      "source": [
        "datadf = pd.read_csv('dataWithZeroOne.csv')"
      ]
    },
    {
      "cell_type": "code",
      "execution_count": 10,
      "metadata": {
        "colab": {
          "base_uri": "https://localhost:8080/",
          "height": 1000
        },
        "id": "O-CmZV4dhupS",
        "outputId": "e07ff7a4-6a74-4814-899f-7e73db793a9b"
      },
      "outputs": [
        {
          "output_type": "execute_result",
          "data": {
            "text/plain": [
              "       Unnamed: 0  زنانه/مردانه  \\\n",
              "0               0             1   \n",
              "1               1             0   \n",
              "2               2             0   \n",
              "3               3             1   \n",
              "4               4             0   \n",
              "...           ...           ...   \n",
              "32723       32723             0   \n",
              "32724       32724             0   \n",
              "32725       32725             0   \n",
              "32726       32726             0   \n",
              "32727       32727             0   \n",
              "\n",
              "                                            description2  \\\n",
              "0      شلوار بیرونی زنانه ،زنانه/مردانه زنانه است.  ش...   \n",
              "1                      این کالا جلو مبلی عسلی چتری است     \n",
              "2      لباس مجلسی دخترانه ،جنس غیره است.  لباس مجلسی ...   \n",
              "3      پیراهن مشکی کوتاه ترک سایز ۳۶-۳۸ ،زنانه/مردانه...   \n",
              "4            این کالا ایمورتال کلاچ اتوماتیک black است     \n",
              "...                                                  ...   \n",
              "32723  این کالا برقکار،برقکار ساختمان،دوربین تعمیرات ...   \n",
              "32724  حسابدار خانم ،ساعات کاری از ۹ تا ۱۷ پنجشنبه‌ها...   \n",
              "32725  نیمست گردنبند  طلا ورساچ E5J194 ،جنس طلا است. ...   \n",
              "32726  اجاره سوییت مبله ،متراژ ۷۰ است.  اجاره سوییت م...   \n",
              "32727             این کالا خرید و خریدار موی طبیعی است     \n",
              "\n",
              "                                       cat2                      cat1  \\\n",
              "0                                      لباس           کیف، کفش و لباس   \n",
              "1                    مبلمان خانگی و میزعسلی        مبلمان و صنایع چوب   \n",
              "2                                   جواهرات        زیورآلات و اکسسوری   \n",
              "3                                      لباس           کیف، کفش و لباس   \n",
              "4              ایمورتال کلاچ اتوماتیک black  قطعات یدکی و لوازم جانبی   \n",
              "...                                     ...                       ...   \n",
              "32723  برقکار،برقکار ساختمان،دوربین تعمیرات              پیشه و مهارت   \n",
              "32724                          حسابدار خانم   مالی و حسابداری و حقوقی   \n",
              "32725                               جواهرات        زیورآلات و اکسسوری   \n",
              "32726                      آپارتمان و سوئیت           اجاره کوتاه مدت   \n",
              "32727               خرید و خریدار موی طبیعی  آرایشی، بهداشتی و درمانی   \n",
              "\n",
              "                                 cat0  نوع لباس                  قیمت  \\\n",
              "0                          وسایل شخصی         1  ۷۵٬۰۰۰ تومان (مقطوع)   \n",
              "1                     خانه و آشپزخانه         0       ۲٬۹۰۰٬۰۰۰ تومان   \n",
              "2                          وسایل شخصی         0           ۱٬۱۱۱ تومان   \n",
              "3                          وسایل شخصی         1       ۱٬۰۰۰٬۰۰۰ تومان   \n",
              "4                         وسایل نقلیه         0                توافقی   \n",
              "...                               ...       ...                   ...   \n",
              "32723                           خدمات         0                   NaN   \n",
              "32724  استخدام و کاریابی (غیر رایگان)         0                   NaN   \n",
              "32725                      وسایل شخصی         0      ۳۸٬۲۸۰٬۰۰۰ تومان   \n",
              "32726                           املاک         0                   NaN   \n",
              "32727                      وسایل شخصی         0      ۲۰٬۰۰۰٬۰۰۰ تومان   \n",
              "\n",
              "                                                category  \\\n",
              "0      ['وسایل شخصی', 'کیف، کفش و لباس', 'لباس', 'شلو...   \n",
              "1      ['خانه و آشپزخانه', 'مبلمان و صنایع چوب', 'مبل...   \n",
              "2      ['وسایل شخصی', 'زیورآلات و اکسسوری', 'جواهرات'...   \n",
              "3      ['وسایل شخصی', 'کیف، کفش و لباس', 'لباس', 'پیر...   \n",
              "4      ['وسایل نقلیه', 'قطعات یدکی و لوازم جانبی', 'ا...   \n",
              "...                                                  ...   \n",
              "32723  ['خدمات', 'پیشه و مهارت', 'برقکار،برقکار ساختم...   \n",
              "32724  ['استخدام و کاریابی (غیر رایگان)', 'مالی و حسا...   \n",
              "32725  ['وسایل شخصی', 'زیورآلات و اکسسوری', 'جواهرات'...   \n",
              "32726  ['املاک', 'اجاره کوتاه مدت', 'آپارتمان و سوئیت...   \n",
              "32727  ['وسایل شخصی', 'آرایشی، بهداشتی و درمانی', 'خر...   \n",
              "\n",
              "                                  mainTitle  ... امکان کار در منزل نوع دسته  \\\n",
              "0                        شلوار بیرونی زنانه  ...                 0        0   \n",
              "1                        جلو مبلی عسلی چتری  ...                 0        0   \n",
              "2                        لباس مجلسی دخترانه  ...                 0        0   \n",
              "3          پیراهن مشکی کوتاه ترک سایز ۳۶-۳۸  ...                 0        0   \n",
              "4              ایمورتال کلاچ اتوماتیک black  ...                 0        0   \n",
              "...                                     ...  ...               ...      ...   \n",
              "32723  برقکار،برقکار ساختمان،دوربین تعمیرات  ...                 0        0   \n",
              "32724                          حسابدار خانم  ...                 0        0   \n",
              "32725       نیمست گردنبند  طلا ورساچ E5J194  ...                 0        0   \n",
              "32726                      اجاره سوییت مبله  ...                 0        0   \n",
              "32727               خرید و خریدار موی طبیعی  ...                 0        0   \n",
              "\n",
              "       تعداد شاخه  سند اداری  شاسی جلو  شاسی عقب  نوع تجهیزات  \\\n",
              "0               0          0         0         0            0   \n",
              "1               0          0         0         0            0   \n",
              "2               0          0         0         0            0   \n",
              "3               0          0         0         0            0   \n",
              "4               0          0         0         0            0   \n",
              "...           ...        ...       ...       ...          ...   \n",
              "32723           0          0         0         0            0   \n",
              "32724           0          0         0         0            0   \n",
              "32725           0          0         0         0            0   \n",
              "32726           0          0         0         0            0   \n",
              "32727           0          0         0         0            0   \n",
              "\n",
              "       نوع تجهیزات بازی  جنس کمربند  فروشنده  \n",
              "0                     0           0        0  \n",
              "1                     0           0        0  \n",
              "2                     0           0        0  \n",
              "3                     0           0        0  \n",
              "4                     0           0        0  \n",
              "...                 ...         ...      ...  \n",
              "32723                 0           0        0  \n",
              "32724                 0           0        0  \n",
              "32725                 0           0        0  \n",
              "32726                 0           0        0  \n",
              "32727                 0           0        0  \n",
              "\n",
              "[32728 rows x 94 columns]"
            ],
            "text/html": [
              "\n",
              "  <div id=\"df-ecf86ff9-86d7-4e31-8d43-0f1fe018d37a\">\n",
              "    <div class=\"colab-df-container\">\n",
              "      <div>\n",
              "<style scoped>\n",
              "    .dataframe tbody tr th:only-of-type {\n",
              "        vertical-align: middle;\n",
              "    }\n",
              "\n",
              "    .dataframe tbody tr th {\n",
              "        vertical-align: top;\n",
              "    }\n",
              "\n",
              "    .dataframe thead th {\n",
              "        text-align: right;\n",
              "    }\n",
              "</style>\n",
              "<table border=\"1\" class=\"dataframe\">\n",
              "  <thead>\n",
              "    <tr style=\"text-align: right;\">\n",
              "      <th></th>\n",
              "      <th>Unnamed: 0</th>\n",
              "      <th>زنانه/مردانه</th>\n",
              "      <th>description2</th>\n",
              "      <th>cat2</th>\n",
              "      <th>cat1</th>\n",
              "      <th>cat0</th>\n",
              "      <th>نوع لباس</th>\n",
              "      <th>قیمت</th>\n",
              "      <th>category</th>\n",
              "      <th>mainTitle</th>\n",
              "      <th>...</th>\n",
              "      <th>امکان کار در منزل</th>\n",
              "      <th>نوع دسته</th>\n",
              "      <th>تعداد شاخه</th>\n",
              "      <th>سند اداری</th>\n",
              "      <th>شاسی جلو</th>\n",
              "      <th>شاسی عقب</th>\n",
              "      <th>نوع تجهیزات</th>\n",
              "      <th>نوع تجهیزات بازی</th>\n",
              "      <th>جنس کمربند</th>\n",
              "      <th>فروشنده</th>\n",
              "    </tr>\n",
              "  </thead>\n",
              "  <tbody>\n",
              "    <tr>\n",
              "      <th>0</th>\n",
              "      <td>0</td>\n",
              "      <td>1</td>\n",
              "      <td>شلوار بیرونی زنانه ،زنانه/مردانه زنانه است.  ش...</td>\n",
              "      <td>لباس</td>\n",
              "      <td>کیف، کفش و لباس</td>\n",
              "      <td>وسایل شخصی</td>\n",
              "      <td>1</td>\n",
              "      <td>۷۵٬۰۰۰ تومان (مقطوع)</td>\n",
              "      <td>['وسایل شخصی', 'کیف، کفش و لباس', 'لباس', 'شلو...</td>\n",
              "      <td>شلوار بیرونی زنانه</td>\n",
              "      <td>...</td>\n",
              "      <td>0</td>\n",
              "      <td>0</td>\n",
              "      <td>0</td>\n",
              "      <td>0</td>\n",
              "      <td>0</td>\n",
              "      <td>0</td>\n",
              "      <td>0</td>\n",
              "      <td>0</td>\n",
              "      <td>0</td>\n",
              "      <td>0</td>\n",
              "    </tr>\n",
              "    <tr>\n",
              "      <th>1</th>\n",
              "      <td>1</td>\n",
              "      <td>0</td>\n",
              "      <td>این کالا جلو مبلی عسلی چتری است</td>\n",
              "      <td>مبلمان خانگی و میزعسلی</td>\n",
              "      <td>مبلمان و صنایع چوب</td>\n",
              "      <td>خانه و آشپزخانه</td>\n",
              "      <td>0</td>\n",
              "      <td>۲٬۹۰۰٬۰۰۰ تومان</td>\n",
              "      <td>['خانه و آشپزخانه', 'مبلمان و صنایع چوب', 'مبل...</td>\n",
              "      <td>جلو مبلی عسلی چتری</td>\n",
              "      <td>...</td>\n",
              "      <td>0</td>\n",
              "      <td>0</td>\n",
              "      <td>0</td>\n",
              "      <td>0</td>\n",
              "      <td>0</td>\n",
              "      <td>0</td>\n",
              "      <td>0</td>\n",
              "      <td>0</td>\n",
              "      <td>0</td>\n",
              "      <td>0</td>\n",
              "    </tr>\n",
              "    <tr>\n",
              "      <th>2</th>\n",
              "      <td>2</td>\n",
              "      <td>0</td>\n",
              "      <td>لباس مجلسی دخترانه ،جنس غیره است.  لباس مجلسی ...</td>\n",
              "      <td>جواهرات</td>\n",
              "      <td>زیورآلات و اکسسوری</td>\n",
              "      <td>وسایل شخصی</td>\n",
              "      <td>0</td>\n",
              "      <td>۱٬۱۱۱ تومان</td>\n",
              "      <td>['وسایل شخصی', 'زیورآلات و اکسسوری', 'جواهرات'...</td>\n",
              "      <td>لباس مجلسی دخترانه</td>\n",
              "      <td>...</td>\n",
              "      <td>0</td>\n",
              "      <td>0</td>\n",
              "      <td>0</td>\n",
              "      <td>0</td>\n",
              "      <td>0</td>\n",
              "      <td>0</td>\n",
              "      <td>0</td>\n",
              "      <td>0</td>\n",
              "      <td>0</td>\n",
              "      <td>0</td>\n",
              "    </tr>\n",
              "    <tr>\n",
              "      <th>3</th>\n",
              "      <td>3</td>\n",
              "      <td>1</td>\n",
              "      <td>پیراهن مشکی کوتاه ترک سایز ۳۶-۳۸ ،زنانه/مردانه...</td>\n",
              "      <td>لباس</td>\n",
              "      <td>کیف، کفش و لباس</td>\n",
              "      <td>وسایل شخصی</td>\n",
              "      <td>1</td>\n",
              "      <td>۱٬۰۰۰٬۰۰۰ تومان</td>\n",
              "      <td>['وسایل شخصی', 'کیف، کفش و لباس', 'لباس', 'پیر...</td>\n",
              "      <td>پیراهن مشکی کوتاه ترک سایز ۳۶-۳۸</td>\n",
              "      <td>...</td>\n",
              "      <td>0</td>\n",
              "      <td>0</td>\n",
              "      <td>0</td>\n",
              "      <td>0</td>\n",
              "      <td>0</td>\n",
              "      <td>0</td>\n",
              "      <td>0</td>\n",
              "      <td>0</td>\n",
              "      <td>0</td>\n",
              "      <td>0</td>\n",
              "    </tr>\n",
              "    <tr>\n",
              "      <th>4</th>\n",
              "      <td>4</td>\n",
              "      <td>0</td>\n",
              "      <td>این کالا ایمورتال کلاچ اتوماتیک black است</td>\n",
              "      <td>ایمورتال کلاچ اتوماتیک black</td>\n",
              "      <td>قطعات یدکی و لوازم جانبی</td>\n",
              "      <td>وسایل نقلیه</td>\n",
              "      <td>0</td>\n",
              "      <td>توافقی</td>\n",
              "      <td>['وسایل نقلیه', 'قطعات یدکی و لوازم جانبی', 'ا...</td>\n",
              "      <td>ایمورتال کلاچ اتوماتیک black</td>\n",
              "      <td>...</td>\n",
              "      <td>0</td>\n",
              "      <td>0</td>\n",
              "      <td>0</td>\n",
              "      <td>0</td>\n",
              "      <td>0</td>\n",
              "      <td>0</td>\n",
              "      <td>0</td>\n",
              "      <td>0</td>\n",
              "      <td>0</td>\n",
              "      <td>0</td>\n",
              "    </tr>\n",
              "    <tr>\n",
              "      <th>...</th>\n",
              "      <td>...</td>\n",
              "      <td>...</td>\n",
              "      <td>...</td>\n",
              "      <td>...</td>\n",
              "      <td>...</td>\n",
              "      <td>...</td>\n",
              "      <td>...</td>\n",
              "      <td>...</td>\n",
              "      <td>...</td>\n",
              "      <td>...</td>\n",
              "      <td>...</td>\n",
              "      <td>...</td>\n",
              "      <td>...</td>\n",
              "      <td>...</td>\n",
              "      <td>...</td>\n",
              "      <td>...</td>\n",
              "      <td>...</td>\n",
              "      <td>...</td>\n",
              "      <td>...</td>\n",
              "      <td>...</td>\n",
              "      <td>...</td>\n",
              "    </tr>\n",
              "    <tr>\n",
              "      <th>32723</th>\n",
              "      <td>32723</td>\n",
              "      <td>0</td>\n",
              "      <td>این کالا برقکار،برقکار ساختمان،دوربین تعمیرات ...</td>\n",
              "      <td>برقکار،برقکار ساختمان،دوربین تعمیرات</td>\n",
              "      <td>پیشه و مهارت</td>\n",
              "      <td>خدمات</td>\n",
              "      <td>0</td>\n",
              "      <td>NaN</td>\n",
              "      <td>['خدمات', 'پیشه و مهارت', 'برقکار،برقکار ساختم...</td>\n",
              "      <td>برقکار،برقکار ساختمان،دوربین تعمیرات</td>\n",
              "      <td>...</td>\n",
              "      <td>0</td>\n",
              "      <td>0</td>\n",
              "      <td>0</td>\n",
              "      <td>0</td>\n",
              "      <td>0</td>\n",
              "      <td>0</td>\n",
              "      <td>0</td>\n",
              "      <td>0</td>\n",
              "      <td>0</td>\n",
              "      <td>0</td>\n",
              "    </tr>\n",
              "    <tr>\n",
              "      <th>32724</th>\n",
              "      <td>32724</td>\n",
              "      <td>0</td>\n",
              "      <td>حسابدار خانم ،ساعات کاری از ۹ تا ۱۷ پنجشنبه‌ها...</td>\n",
              "      <td>حسابدار خانم</td>\n",
              "      <td>مالی و حسابداری و حقوقی</td>\n",
              "      <td>استخدام و کاریابی (غیر رایگان)</td>\n",
              "      <td>0</td>\n",
              "      <td>NaN</td>\n",
              "      <td>['استخدام و کاریابی (غیر رایگان)', 'مالی و حسا...</td>\n",
              "      <td>حسابدار خانم</td>\n",
              "      <td>...</td>\n",
              "      <td>0</td>\n",
              "      <td>0</td>\n",
              "      <td>0</td>\n",
              "      <td>0</td>\n",
              "      <td>0</td>\n",
              "      <td>0</td>\n",
              "      <td>0</td>\n",
              "      <td>0</td>\n",
              "      <td>0</td>\n",
              "      <td>0</td>\n",
              "    </tr>\n",
              "    <tr>\n",
              "      <th>32725</th>\n",
              "      <td>32725</td>\n",
              "      <td>0</td>\n",
              "      <td>نیمست گردنبند  طلا ورساچ E5J194 ،جنس طلا است. ...</td>\n",
              "      <td>جواهرات</td>\n",
              "      <td>زیورآلات و اکسسوری</td>\n",
              "      <td>وسایل شخصی</td>\n",
              "      <td>0</td>\n",
              "      <td>۳۸٬۲۸۰٬۰۰۰ تومان</td>\n",
              "      <td>['وسایل شخصی', 'زیورآلات و اکسسوری', 'جواهرات'...</td>\n",
              "      <td>نیمست گردنبند  طلا ورساچ E5J194</td>\n",
              "      <td>...</td>\n",
              "      <td>0</td>\n",
              "      <td>0</td>\n",
              "      <td>0</td>\n",
              "      <td>0</td>\n",
              "      <td>0</td>\n",
              "      <td>0</td>\n",
              "      <td>0</td>\n",
              "      <td>0</td>\n",
              "      <td>0</td>\n",
              "      <td>0</td>\n",
              "    </tr>\n",
              "    <tr>\n",
              "      <th>32726</th>\n",
              "      <td>32726</td>\n",
              "      <td>0</td>\n",
              "      <td>اجاره سوییت مبله ،متراژ ۷۰ است.  اجاره سوییت م...</td>\n",
              "      <td>آپارتمان و سوئیت</td>\n",
              "      <td>اجاره کوتاه مدت</td>\n",
              "      <td>املاک</td>\n",
              "      <td>0</td>\n",
              "      <td>NaN</td>\n",
              "      <td>['املاک', 'اجاره کوتاه مدت', 'آپارتمان و سوئیت...</td>\n",
              "      <td>اجاره سوییت مبله</td>\n",
              "      <td>...</td>\n",
              "      <td>0</td>\n",
              "      <td>0</td>\n",
              "      <td>0</td>\n",
              "      <td>0</td>\n",
              "      <td>0</td>\n",
              "      <td>0</td>\n",
              "      <td>0</td>\n",
              "      <td>0</td>\n",
              "      <td>0</td>\n",
              "      <td>0</td>\n",
              "    </tr>\n",
              "    <tr>\n",
              "      <th>32727</th>\n",
              "      <td>32727</td>\n",
              "      <td>0</td>\n",
              "      <td>این کالا خرید و خریدار موی طبیعی است</td>\n",
              "      <td>خرید و خریدار موی طبیعی</td>\n",
              "      <td>آرایشی، بهداشتی و درمانی</td>\n",
              "      <td>وسایل شخصی</td>\n",
              "      <td>0</td>\n",
              "      <td>۲۰٬۰۰۰٬۰۰۰ تومان</td>\n",
              "      <td>['وسایل شخصی', 'آرایشی، بهداشتی و درمانی', 'خر...</td>\n",
              "      <td>خرید و خریدار موی طبیعی</td>\n",
              "      <td>...</td>\n",
              "      <td>0</td>\n",
              "      <td>0</td>\n",
              "      <td>0</td>\n",
              "      <td>0</td>\n",
              "      <td>0</td>\n",
              "      <td>0</td>\n",
              "      <td>0</td>\n",
              "      <td>0</td>\n",
              "      <td>0</td>\n",
              "      <td>0</td>\n",
              "    </tr>\n",
              "  </tbody>\n",
              "</table>\n",
              "<p>32728 rows × 94 columns</p>\n",
              "</div>\n",
              "      <button class=\"colab-df-convert\" onclick=\"convertToInteractive('df-ecf86ff9-86d7-4e31-8d43-0f1fe018d37a')\"\n",
              "              title=\"Convert this dataframe to an interactive table.\"\n",
              "              style=\"display:none;\">\n",
              "        \n",
              "  <svg xmlns=\"http://www.w3.org/2000/svg\" height=\"24px\"viewBox=\"0 0 24 24\"\n",
              "       width=\"24px\">\n",
              "    <path d=\"M0 0h24v24H0V0z\" fill=\"none\"/>\n",
              "    <path d=\"M18.56 5.44l.94 2.06.94-2.06 2.06-.94-2.06-.94-.94-2.06-.94 2.06-2.06.94zm-11 1L8.5 8.5l.94-2.06 2.06-.94-2.06-.94L8.5 2.5l-.94 2.06-2.06.94zm10 10l.94 2.06.94-2.06 2.06-.94-2.06-.94-.94-2.06-.94 2.06-2.06.94z\"/><path d=\"M17.41 7.96l-1.37-1.37c-.4-.4-.92-.59-1.43-.59-.52 0-1.04.2-1.43.59L10.3 9.45l-7.72 7.72c-.78.78-.78 2.05 0 2.83L4 21.41c.39.39.9.59 1.41.59.51 0 1.02-.2 1.41-.59l7.78-7.78 2.81-2.81c.8-.78.8-2.07 0-2.86zM5.41 20L4 18.59l7.72-7.72 1.47 1.35L5.41 20z\"/>\n",
              "  </svg>\n",
              "      </button>\n",
              "      \n",
              "  <style>\n",
              "    .colab-df-container {\n",
              "      display:flex;\n",
              "      flex-wrap:wrap;\n",
              "      gap: 12px;\n",
              "    }\n",
              "\n",
              "    .colab-df-convert {\n",
              "      background-color: #E8F0FE;\n",
              "      border: none;\n",
              "      border-radius: 50%;\n",
              "      cursor: pointer;\n",
              "      display: none;\n",
              "      fill: #1967D2;\n",
              "      height: 32px;\n",
              "      padding: 0 0 0 0;\n",
              "      width: 32px;\n",
              "    }\n",
              "\n",
              "    .colab-df-convert:hover {\n",
              "      background-color: #E2EBFA;\n",
              "      box-shadow: 0px 1px 2px rgba(60, 64, 67, 0.3), 0px 1px 3px 1px rgba(60, 64, 67, 0.15);\n",
              "      fill: #174EA6;\n",
              "    }\n",
              "\n",
              "    [theme=dark] .colab-df-convert {\n",
              "      background-color: #3B4455;\n",
              "      fill: #D2E3FC;\n",
              "    }\n",
              "\n",
              "    [theme=dark] .colab-df-convert:hover {\n",
              "      background-color: #434B5C;\n",
              "      box-shadow: 0px 1px 3px 1px rgba(0, 0, 0, 0.15);\n",
              "      filter: drop-shadow(0px 1px 2px rgba(0, 0, 0, 0.3));\n",
              "      fill: #FFFFFF;\n",
              "    }\n",
              "  </style>\n",
              "\n",
              "      <script>\n",
              "        const buttonEl =\n",
              "          document.querySelector('#df-ecf86ff9-86d7-4e31-8d43-0f1fe018d37a button.colab-df-convert');\n",
              "        buttonEl.style.display =\n",
              "          google.colab.kernel.accessAllowed ? 'block' : 'none';\n",
              "\n",
              "        async function convertToInteractive(key) {\n",
              "          const element = document.querySelector('#df-ecf86ff9-86d7-4e31-8d43-0f1fe018d37a');\n",
              "          const dataTable =\n",
              "            await google.colab.kernel.invokeFunction('convertToInteractive',\n",
              "                                                     [key], {});\n",
              "          if (!dataTable) return;\n",
              "\n",
              "          const docLinkHtml = 'Like what you see? Visit the ' +\n",
              "            '<a target=\"_blank\" href=https://colab.research.google.com/notebooks/data_table.ipynb>data table notebook</a>'\n",
              "            + ' to learn more about interactive tables.';\n",
              "          element.innerHTML = '';\n",
              "          dataTable['output_type'] = 'display_data';\n",
              "          await google.colab.output.renderOutput(dataTable, element);\n",
              "          const docLink = document.createElement('div');\n",
              "          docLink.innerHTML = docLinkHtml;\n",
              "          element.appendChild(docLink);\n",
              "        }\n",
              "      </script>\n",
              "    </div>\n",
              "  </div>\n",
              "  "
            ]
          },
          "metadata": {},
          "execution_count": 10
        }
      ],
      "source": [
        "datadf"
      ]
    },
    {
      "cell_type": "code",
      "execution_count": 11,
      "metadata": {
        "id": "zNNbtPd_hWJB"
      },
      "outputs": [],
      "source": [
        "data = datadf\n",
        "# normalize\n",
        "data[\"description\"] = data.description.apply(normalize)\n",
        "data[\"description2\"] = data.description2.apply(normalize)\n"
      ]
    },
    {
      "cell_type": "code",
      "execution_count": 12,
      "metadata": {
        "id": "mG9h3P8JjuSJ"
      },
      "outputs": [],
      "source": [
        "data = data[['description', 'description2']]"
      ]
    },
    {
      "cell_type": "code",
      "execution_count": 13,
      "metadata": {
        "id": "uaB2B4IojwVp",
        "colab": {
          "base_uri": "https://localhost:8080/",
          "height": 424
        },
        "outputId": "4e8b1dad-3e27-4e59-a4f5-5f5b1c8c10d6"
      },
      "outputs": [
        {
          "output_type": "execute_result",
          "data": {
            "text/plain": [
              "                                             description  \\\n",
              "0      کاملا نو رنگ شتری مناسب فصل بهار و تابستان جنس...   \n",
              "1      تولید و پخش انواع جلو مبلی و عسلی با ۳۰٪تخفیف ...   \n",
              "2                                       همه در حد و تمیز   \n",
              "3          دو عدد پیراهن بسیار شیک مشکی کوتاه سایز ۳۶-۳۸   \n",
              "4      فروش اقساطی بدون سود نصب در محل موتور بوش الما...   \n",
              "...                                                  ...   \n",
              "32723  برقکاری ساختمان صنعتی و تعمیرات وبازسازی نصب ر...   \n",
              "32724                              مسلط به نرم افزار هلو   \n",
              "32725  نیمست طلا ورساچه ۱۸عیار کد طلا E۵J۱۹۴ وزن طلا ...   \n",
              "32726  تمیز ضدعفونی شده پارکینگ دسترسی به مکان های عم...   \n",
              "32727  خرید موهای شما فقط وفقط۵۵سانت به بالا لطفا زیر...   \n",
              "\n",
              "                                            description2  \n",
              "0      شلوار بیرونی زنانه زنانه مردانه زنانه است شلوا...  \n",
              "1                       این کالا جلو مبلی عسلی چتری است   \n",
              "2      لباس مجلسی دخترانه جنس غیره است لباس مجلسی دخت...  \n",
              "3      پیراهن مشکی کوتاه ترک سایز ۳۶-۳۸ زنانه مردانه ...  \n",
              "4             این کالا ایمورتال کلاچ اتوماتیک black است   \n",
              "...                                                  ...  \n",
              "32723  این کالا برقکار برقکار ساختمان دوربین تعمیرات ...  \n",
              "32724  حسابدار خانم ساعات کاری از ۹ تا ۱۷ پنجشنبه ها ...  \n",
              "32725  نیمست گردنبند طلا ورساچ E۵J۱۹۴ جنس طلا است این...  \n",
              "32726  اجاره سوییت مبله متراژ ۷۰ است اجاره سوییت مبله...  \n",
              "32727              این کالا خرید و خریدار موی طبیعی است   \n",
              "\n",
              "[32728 rows x 2 columns]"
            ],
            "text/html": [
              "\n",
              "  <div id=\"df-2738befa-fa73-4d84-b03d-d35517b4f448\">\n",
              "    <div class=\"colab-df-container\">\n",
              "      <div>\n",
              "<style scoped>\n",
              "    .dataframe tbody tr th:only-of-type {\n",
              "        vertical-align: middle;\n",
              "    }\n",
              "\n",
              "    .dataframe tbody tr th {\n",
              "        vertical-align: top;\n",
              "    }\n",
              "\n",
              "    .dataframe thead th {\n",
              "        text-align: right;\n",
              "    }\n",
              "</style>\n",
              "<table border=\"1\" class=\"dataframe\">\n",
              "  <thead>\n",
              "    <tr style=\"text-align: right;\">\n",
              "      <th></th>\n",
              "      <th>description</th>\n",
              "      <th>description2</th>\n",
              "    </tr>\n",
              "  </thead>\n",
              "  <tbody>\n",
              "    <tr>\n",
              "      <th>0</th>\n",
              "      <td>کاملا نو رنگ شتری مناسب فصل بهار و تابستان جنس...</td>\n",
              "      <td>شلوار بیرونی زنانه زنانه مردانه زنانه است شلوا...</td>\n",
              "    </tr>\n",
              "    <tr>\n",
              "      <th>1</th>\n",
              "      <td>تولید و پخش انواع جلو مبلی و عسلی با ۳۰٪تخفیف ...</td>\n",
              "      <td>این کالا جلو مبلی عسلی چتری است</td>\n",
              "    </tr>\n",
              "    <tr>\n",
              "      <th>2</th>\n",
              "      <td>همه در حد و تمیز</td>\n",
              "      <td>لباس مجلسی دخترانه جنس غیره است لباس مجلسی دخت...</td>\n",
              "    </tr>\n",
              "    <tr>\n",
              "      <th>3</th>\n",
              "      <td>دو عدد پیراهن بسیار شیک مشکی کوتاه سایز ۳۶-۳۸</td>\n",
              "      <td>پیراهن مشکی کوتاه ترک سایز ۳۶-۳۸ زنانه مردانه ...</td>\n",
              "    </tr>\n",
              "    <tr>\n",
              "      <th>4</th>\n",
              "      <td>فروش اقساطی بدون سود نصب در محل موتور بوش الما...</td>\n",
              "      <td>این کالا ایمورتال کلاچ اتوماتیک black است</td>\n",
              "    </tr>\n",
              "    <tr>\n",
              "      <th>...</th>\n",
              "      <td>...</td>\n",
              "      <td>...</td>\n",
              "    </tr>\n",
              "    <tr>\n",
              "      <th>32723</th>\n",
              "      <td>برقکاری ساختمان صنعتی و تعمیرات وبازسازی نصب ر...</td>\n",
              "      <td>این کالا برقکار برقکار ساختمان دوربین تعمیرات ...</td>\n",
              "    </tr>\n",
              "    <tr>\n",
              "      <th>32724</th>\n",
              "      <td>مسلط به نرم افزار هلو</td>\n",
              "      <td>حسابدار خانم ساعات کاری از ۹ تا ۱۷ پنجشنبه ها ...</td>\n",
              "    </tr>\n",
              "    <tr>\n",
              "      <th>32725</th>\n",
              "      <td>نیمست طلا ورساچه ۱۸عیار کد طلا E۵J۱۹۴ وزن طلا ...</td>\n",
              "      <td>نیمست گردنبند طلا ورساچ E۵J۱۹۴ جنس طلا است این...</td>\n",
              "    </tr>\n",
              "    <tr>\n",
              "      <th>32726</th>\n",
              "      <td>تمیز ضدعفونی شده پارکینگ دسترسی به مکان های عم...</td>\n",
              "      <td>اجاره سوییت مبله متراژ ۷۰ است اجاره سوییت مبله...</td>\n",
              "    </tr>\n",
              "    <tr>\n",
              "      <th>32727</th>\n",
              "      <td>خرید موهای شما فقط وفقط۵۵سانت به بالا لطفا زیر...</td>\n",
              "      <td>این کالا خرید و خریدار موی طبیعی است</td>\n",
              "    </tr>\n",
              "  </tbody>\n",
              "</table>\n",
              "<p>32728 rows × 2 columns</p>\n",
              "</div>\n",
              "      <button class=\"colab-df-convert\" onclick=\"convertToInteractive('df-2738befa-fa73-4d84-b03d-d35517b4f448')\"\n",
              "              title=\"Convert this dataframe to an interactive table.\"\n",
              "              style=\"display:none;\">\n",
              "        \n",
              "  <svg xmlns=\"http://www.w3.org/2000/svg\" height=\"24px\"viewBox=\"0 0 24 24\"\n",
              "       width=\"24px\">\n",
              "    <path d=\"M0 0h24v24H0V0z\" fill=\"none\"/>\n",
              "    <path d=\"M18.56 5.44l.94 2.06.94-2.06 2.06-.94-2.06-.94-.94-2.06-.94 2.06-2.06.94zm-11 1L8.5 8.5l.94-2.06 2.06-.94-2.06-.94L8.5 2.5l-.94 2.06-2.06.94zm10 10l.94 2.06.94-2.06 2.06-.94-2.06-.94-.94-2.06-.94 2.06-2.06.94z\"/><path d=\"M17.41 7.96l-1.37-1.37c-.4-.4-.92-.59-1.43-.59-.52 0-1.04.2-1.43.59L10.3 9.45l-7.72 7.72c-.78.78-.78 2.05 0 2.83L4 21.41c.39.39.9.59 1.41.59.51 0 1.02-.2 1.41-.59l7.78-7.78 2.81-2.81c.8-.78.8-2.07 0-2.86zM5.41 20L4 18.59l7.72-7.72 1.47 1.35L5.41 20z\"/>\n",
              "  </svg>\n",
              "      </button>\n",
              "      \n",
              "  <style>\n",
              "    .colab-df-container {\n",
              "      display:flex;\n",
              "      flex-wrap:wrap;\n",
              "      gap: 12px;\n",
              "    }\n",
              "\n",
              "    .colab-df-convert {\n",
              "      background-color: #E8F0FE;\n",
              "      border: none;\n",
              "      border-radius: 50%;\n",
              "      cursor: pointer;\n",
              "      display: none;\n",
              "      fill: #1967D2;\n",
              "      height: 32px;\n",
              "      padding: 0 0 0 0;\n",
              "      width: 32px;\n",
              "    }\n",
              "\n",
              "    .colab-df-convert:hover {\n",
              "      background-color: #E2EBFA;\n",
              "      box-shadow: 0px 1px 2px rgba(60, 64, 67, 0.3), 0px 1px 3px 1px rgba(60, 64, 67, 0.15);\n",
              "      fill: #174EA6;\n",
              "    }\n",
              "\n",
              "    [theme=dark] .colab-df-convert {\n",
              "      background-color: #3B4455;\n",
              "      fill: #D2E3FC;\n",
              "    }\n",
              "\n",
              "    [theme=dark] .colab-df-convert:hover {\n",
              "      background-color: #434B5C;\n",
              "      box-shadow: 0px 1px 3px 1px rgba(0, 0, 0, 0.15);\n",
              "      filter: drop-shadow(0px 1px 2px rgba(0, 0, 0, 0.3));\n",
              "      fill: #FFFFFF;\n",
              "    }\n",
              "  </style>\n",
              "\n",
              "      <script>\n",
              "        const buttonEl =\n",
              "          document.querySelector('#df-2738befa-fa73-4d84-b03d-d35517b4f448 button.colab-df-convert');\n",
              "        buttonEl.style.display =\n",
              "          google.colab.kernel.accessAllowed ? 'block' : 'none';\n",
              "\n",
              "        async function convertToInteractive(key) {\n",
              "          const element = document.querySelector('#df-2738befa-fa73-4d84-b03d-d35517b4f448');\n",
              "          const dataTable =\n",
              "            await google.colab.kernel.invokeFunction('convertToInteractive',\n",
              "                                                     [key], {});\n",
              "          if (!dataTable) return;\n",
              "\n",
              "          const docLinkHtml = 'Like what you see? Visit the ' +\n",
              "            '<a target=\"_blank\" href=https://colab.research.google.com/notebooks/data_table.ipynb>data table notebook</a>'\n",
              "            + ' to learn more about interactive tables.';\n",
              "          element.innerHTML = '';\n",
              "          dataTable['output_type'] = 'display_data';\n",
              "          await google.colab.output.renderOutput(dataTable, element);\n",
              "          const docLink = document.createElement('div');\n",
              "          docLink.innerHTML = docLinkHtml;\n",
              "          element.appendChild(docLink);\n",
              "        }\n",
              "      </script>\n",
              "    </div>\n",
              "  </div>\n",
              "  "
            ]
          },
          "metadata": {},
          "execution_count": 13
        }
      ],
      "source": [
        "data"
      ]
    },
    {
      "cell_type": "code",
      "execution_count": 14,
      "metadata": {
        "id": "6uy80smRh-HB"
      },
      "outputs": [],
      "source": [
        "description_list = list(data['description'])\n",
        "description2_list = list(data['description2'])\n",
        "merged_description  = []\n",
        "for idx in range(len(description_list)):\n",
        "  merged_description.append(description_list[idx] + description2_list[idx])\n",
        "\n"
      ]
    },
    {
      "cell_type": "code",
      "execution_count": 15,
      "metadata": {
        "colab": {
          "base_uri": "https://localhost:8080/"
        },
        "id": "SHPnxoFeiMij",
        "outputId": "c0715210-94c5-4b43-cba3-74a8615d3bdd"
      },
      "outputs": [
        {
          "output_type": "stream",
          "name": "stderr",
          "text": [
            "/usr/local/lib/python3.9/dist-packages/sklearn/feature_extraction/text.py:528: UserWarning: The parameter 'token_pattern' will not be used since 'tokenizer' is not None'\n",
            "  warnings.warn(\n"
          ]
        },
        {
          "output_type": "execute_result",
          "data": {
            "text/plain": [
              "(32728, 66900)"
            ]
          },
          "metadata": {},
          "execution_count": 15
        }
      ],
      "source": [
        "matrix = tfidf_generator.fit_transform(merged_description)\n",
        "matrix.shape"
      ]
    },
    {
      "cell_type": "code",
      "execution_count": 16,
      "metadata": {
        "id": "43-SqmLQjei3"
      },
      "outputs": [],
      "source": [
        "import pandas as pd\n",
        "import numpy as np\n",
        "import re\n",
        "from tqdm import tqdm\n",
        " \n",
        "from gensim.models.fasttext import FastText\n",
        " \n",
        "from sklearn.decomposition import PCA\n",
        "from sklearn.manifold import TSNE\n",
        "import seaborn as sns\n",
        "import matplotlib.pyplot as plt\n",
        "from sklearn.preprocessing import StandardScaler\n",
        "from sklearn.neural_network import MLPClassifier\n",
        "from sklearn.metrics import accuracy_score\n",
        "from sklearn.metrics import classification_report\n",
        "import pickle"
      ]
    },
    {
      "cell_type": "code",
      "execution_count": 17,
      "metadata": {
        "id": "t5RaQ6Qgj8iq"
      },
      "outputs": [],
      "source": [
        "word_tokens = [word_tokenize(i) for i in merged_description]"
      ]
    },
    {
      "cell_type": "code",
      "execution_count": null,
      "metadata": {
        "id": "s8DdPMV1kHc5"
      },
      "outputs": [],
      "source": [
        "embedding_size = 300\n",
        "window_size = 5\n",
        "min_word = 5\n",
        "down_sampling = 1e-2\n",
        " \n",
        "fast_Text_model = FastText(word_tokens,\n",
        "                      vector_size =embedding_size,\n",
        "                      window=window_size,\n",
        "                      min_count=min_word,\n",
        "                      sample=down_sampling,\n",
        "                      workers = 5,\n",
        "                      sg=1,\n",
        "                      epochs=30)"
      ]
    },
    {
      "cell_type": "code",
      "execution_count": null,
      "metadata": {
        "id": "ppM9ey4Ok0f5"
      },
      "outputs": [],
      "source": [
        "fast_Text_model.save(\"fasttext_model.bin\")"
      ]
    },
    {
      "cell_type": "code",
      "execution_count": null,
      "metadata": {
        "id": "WztwP7L-z1xj"
      },
      "outputs": [],
      "source": [
        "word_list = list(tfidf_generator.get_feature_names_out())\n",
        "all_desc_emb = []\n",
        "for idx in range(len(merged_description)):\n",
        "    counter = 0\n",
        "    comment_tfidf = matrix[idx]\n",
        "    comment_emb = []\n",
        "    for token in word_tokenize(merged_description[idx]):\n",
        "        try:\n",
        "            token_fast_emb = fast_Text_model.wv[token]\n",
        "            token_final_emb = token_fast_emb * comment_tfidf[0 , word_list.index(token)]\n",
        "            comment_emb.append(token_final_emb)\n",
        "        except:\n",
        "            counter+=1\n",
        "            \n",
        "    all_desc_emb.append(np.mean(comment_emb,axis=0))"
      ]
    },
    {
      "cell_type": "code",
      "source": [
        "df = pd.DataFrame(all_desc_emb)"
      ],
      "metadata": {
        "id": "qeGdykh9DTiq"
      },
      "execution_count": 36,
      "outputs": []
    },
    {
      "cell_type": "code",
      "source": [
        "df.to_csv('fastText.csv')"
      ],
      "metadata": {
        "id": "xNM-yalRVuti"
      },
      "execution_count": 41,
      "outputs": []
    },
    {
      "cell_type": "code",
      "source": [
        "from numpy import array\n",
        "from sklearn.decomposition import PCA\n",
        "pca = PCA(80)\n",
        "pca.fit(df)\n",
        "pcaFastText = pca.transform(df)"
      ],
      "metadata": {
        "id": "opgPGhLCW4O6"
      },
      "execution_count": 55,
      "outputs": []
    },
    {
      "cell_type": "code",
      "source": [
        "pcaFastText.shape"
      ],
      "metadata": {
        "colab": {
          "base_uri": "https://localhost:8080/"
        },
        "id": "3Fy9aIouXUua",
        "outputId": "60b0f88e-95fb-4177-ea37-ba376638f42e"
      },
      "execution_count": 51,
      "outputs": [
        {
          "output_type": "execute_result",
          "data": {
            "text/plain": [
              "(32728, 50)"
            ]
          },
          "metadata": {},
          "execution_count": 51
        }
      ]
    },
    {
      "cell_type": "code",
      "source": [
        "import pickle\n",
        "with open(\"labels\", \"rb\") as fp:   # Unpickling\n",
        "  labels = pickle.load(fp)"
      ],
      "metadata": {
        "id": "5ZMBdg0YXfhp"
      },
      "execution_count": 1,
      "outputs": []
    },
    {
      "cell_type": "code",
      "source": [
        "from sklearn.model_selection import train_test_split\n",
        "X_train , X_test , Y_train , Y_test = train_test_split(pcaFastText, labels , test_size = 0.2 )"
      ],
      "metadata": {
        "id": "FqCPypaiXZly"
      },
      "execution_count": 3,
      "outputs": []
    },
    {
      "cell_type": "code",
      "source": [
        "from sklearn.linear_model import LogisticRegression\n",
        "from sklearn.metrics import accuracy_score\n",
        "classifier = LogisticRegression(max_iter =10000)\n",
        "classifier.fit(X_train , Y_train)\n",
        "Y_pred = classifier.predict(X_test)\n",
        "acc = accuracy_score(Y_test , Y_pred)\n",
        "print(acc)"
      ],
      "metadata": {
        "colab": {
          "base_uri": "https://localhost:8080/"
        },
        "id": "ea7iAhLlXo5t",
        "outputId": "8d029391-9581-4543-bc27-9a851062cf93"
      },
      "execution_count": 4,
      "outputs": [
        {
          "output_type": "stream",
          "name": "stdout",
          "text": [
            "0.2283837457989612\n"
          ]
        }
      ]
    },
    {
      "cell_type": "code",
      "source": [
        "import pandas as pd\n",
        "column_values = []\n",
        "for i in range(80):\n",
        "  column_values.append(\"pcaFastText\" + str(i))\n",
        "\n",
        "dfpcaFastText = pd.DataFrame(data = pcaFastText, \n",
        "                  columns = column_values)\n",
        "dfpcaFastText.to_csv(\"pcaFastText.csv\")"
      ],
      "metadata": {
        "id": "2xkWz55IYHpi"
      },
      "execution_count": 59,
      "outputs": []
    },
    {
      "cell_type": "code",
      "source": [
        "from sklearn.manifold import TSNE\n",
        "X_embedded = TSNE(n_components=3, learning_rate='auto',init='random', perplexity=30 ,  random_state=30).fit_transform(pcaFastText)"
      ],
      "metadata": {
        "id": "9woskvFYYlk6"
      },
      "execution_count": 60,
      "outputs": []
    },
    {
      "cell_type": "code",
      "source": [
        "X_embedded.shape"
      ],
      "metadata": {
        "colab": {
          "base_uri": "https://localhost:8080/"
        },
        "id": "gUVxW5jwhkPk",
        "outputId": "b4ef919e-b9ce-4ee7-e22c-dd2948dda277"
      },
      "execution_count": 62,
      "outputs": [
        {
          "output_type": "execute_result",
          "data": {
            "text/plain": [
              "(32728, 3)"
            ]
          },
          "metadata": {},
          "execution_count": 62
        }
      ]
    },
    {
      "cell_type": "code",
      "source": [
        "from sklearn.model_selection import train_test_split\n",
        "X_train , X_test , Y_train , Y_test = train_test_split(X_embedded, labels , test_size = 0.2 )\n",
        "from sklearn.linear_model import LogisticRegression\n",
        "from sklearn.metrics import accuracy_score\n",
        "classifier = LogisticRegression(max_iter =10000)\n",
        "classifier.fit(X_train , Y_train)\n",
        "Y_pred = classifier.predict(X_test)\n",
        "acc = accuracy_score(Y_test , Y_pred)\n",
        "print(acc)"
      ],
      "metadata": {
        "colab": {
          "base_uri": "https://localhost:8080/"
        },
        "id": "mH4BWamjho2z",
        "outputId": "38eed334-7822-4cf4-b030-a33faa29b080"
      },
      "execution_count": 63,
      "outputs": [
        {
          "output_type": "stream",
          "name": "stdout",
          "text": [
            "0.6782768102658112\n"
          ]
        }
      ]
    },
    {
      "cell_type": "code",
      "source": [
        "import pandas as pd\n",
        "column_values = []\n",
        "for i in range(3):\n",
        "  column_values.append(\"TSNEFastText\" + str(i))\n",
        "\n",
        "dfTSNEFastText = pd.DataFrame(data = X_embedded, \n",
        "                  columns = column_values)\n",
        "dfTSNEFastText.to_csv(\"TSNEFastText.csv\")"
      ],
      "metadata": {
        "id": "5LFos8EGhxmL"
      },
      "execution_count": 64,
      "outputs": []
    }
  ],
  "metadata": {
    "colab": {
      "provenance": []
    },
    "kernelspec": {
      "display_name": "Python 3",
      "name": "python3"
    },
    "language_info": {
      "name": "python"
    }
  },
  "nbformat": 4,
  "nbformat_minor": 0
}