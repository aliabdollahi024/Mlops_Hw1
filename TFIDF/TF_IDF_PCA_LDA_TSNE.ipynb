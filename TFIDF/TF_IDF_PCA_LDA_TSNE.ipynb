{
  "cells": [
    {
      "cell_type": "code",
      "source": [
        "!pip install persiantools\n",
        "!pip install price-parser\n",
        "!pip install hazm"
      ],
      "metadata": {
        "id": "w-BZH-skPNW5",
        "colab": {
          "base_uri": "https://localhost:8080/"
        },
        "outputId": "7173345b-000a-4478-efdc-b4141044f709"
      },
      "execution_count": 1,
      "outputs": [
        {
          "output_type": "stream",
          "name": "stdout",
          "text": [
            "Looking in indexes: https://pypi.org/simple, https://us-python.pkg.dev/colab-wheels/public/simple/\n",
            "Requirement already satisfied: persiantools in /usr/local/lib/python3.9/dist-packages (3.0.1)\n",
            "Looking in indexes: https://pypi.org/simple, https://us-python.pkg.dev/colab-wheels/public/simple/\n",
            "Requirement already satisfied: price-parser in /usr/local/lib/python3.9/dist-packages (0.3.4)\n",
            "Requirement already satisfied: attrs>=17.3.0 in /usr/local/lib/python3.9/dist-packages (from price-parser) (22.2.0)\n",
            "Looking in indexes: https://pypi.org/simple, https://us-python.pkg.dev/colab-wheels/public/simple/\n",
            "Requirement already satisfied: hazm in /usr/local/lib/python3.9/dist-packages (0.7.0)\n",
            "Requirement already satisfied: nltk==3.3 in /usr/local/lib/python3.9/dist-packages (from hazm) (3.3)\n",
            "Requirement already satisfied: libwapiti>=0.2.1 in /usr/local/lib/python3.9/dist-packages (from hazm) (0.2.1)\n",
            "Requirement already satisfied: six in /usr/local/lib/python3.9/dist-packages (from nltk==3.3->hazm) (1.16.0)\n"
          ]
        }
      ]
    },
    {
      "cell_type": "code",
      "source": [
        "from persiantools import digits\n",
        "from price_parser import Price\n",
        "import numpy as np\n",
        "import pandas as pd\n",
        "from sklearn.preprocessing import LabelEncoder, StandardScaler\n",
        "from __future__ import unicode_literals\n",
        "from hazm import *\n",
        "import random \n",
        "import numpy as np\n",
        "import nltk\n",
        "import pandas as pd\n",
        "import codecs\n",
        "import tqdm\n",
        "from numpy import array\n",
        "from sklearn.decomposition import PCA\n"
      ],
      "metadata": {
        "id": "ERO92oBpPNUc"
      },
      "execution_count": 1,
      "outputs": []
    },
    {
      "cell_type": "code",
      "source": [
        "df = pd.read_csv('advertisementData.csv')\n"
      ],
      "metadata": {
        "colab": {
          "base_uri": "https://localhost:8080/"
        },
        "id": "PNVKD8Vnydqm",
        "outputId": "8639fe03-93fe-4f8c-ea2a-2fd3591b9f39"
      },
      "execution_count": 2,
      "outputs": [
        {
          "output_type": "stream",
          "name": "stderr",
          "text": [
            "<ipython-input-2-9d9e728521d4>:1: DtypeWarning: Columns (64,93) have mixed types. Specify dtype option on import or set low_memory=False.\n",
            "  df = pd.read_csv('advertisementData.csv')\n"
          ]
        }
      ]
    },
    {
      "cell_type": "code",
      "source": [
        "listPrice = list(df['قیمت'])"
      ],
      "metadata": {
        "id": "22hxadeT6WQR"
      },
      "execution_count": 3,
      "outputs": []
    },
    {
      "cell_type": "code",
      "source": [
        "listNumberPrice = []\n",
        "for price in listPrice:\n",
        "  if price is not None:\n",
        "    if type(price) != str:\n",
        "      print(price)\n",
        "      listNumberPrice.append(0)\n",
        "    else:\n",
        "      # print(type(price))\n",
        "      enPrice = digits.fa_to_en(price)\n",
        "      enPrice = enPrice.replace('٬' , '')\n",
        "      price = Price.fromstring(enPrice)\n",
        "      if price.amount is not None: \n",
        "        listNumberPrice.append(int(price.amount))\n",
        "      else:\n",
        "        listNumberPrice.append(0)\n",
        "  else:\n",
        "    listNumberPrice.append(0)\n",
        "\n",
        "\n"
      ],
      "metadata": {
        "id": "yMtnkQLh8PMC"
      },
      "execution_count": null,
      "outputs": []
    },
    {
      "cell_type": "code",
      "source": [
        "df.drop(['قیمت'], inplace=True, axis=1)"
      ],
      "metadata": {
        "id": "DTwXmsp4C66Y"
      },
      "execution_count": 5,
      "outputs": []
    },
    {
      "cell_type": "code",
      "source": [
        "df.insert(loc=1, column=\"price\", value=listNumberPrice)"
      ],
      "metadata": {
        "id": "ZjiKhebHCyfV"
      },
      "execution_count": 6,
      "outputs": []
    },
    {
      "cell_type": "code",
      "source": [
        "df"
      ],
      "metadata": {
        "colab": {
          "base_uri": "https://localhost:8080/",
          "height": 1000
        },
        "id": "jL1_6s_QCycx",
        "outputId": "8c59cb90-0a09-4f1a-df77-befc91d7b399"
      },
      "execution_count": 7,
      "outputs": [
        {
          "output_type": "execute_result",
          "data": {
            "text/plain": [
              "       Unnamed: 0     price زنانه/مردانه  \\\n",
              "0               0     75000        زنانه   \n",
              "1               1   2900000          NaN   \n",
              "2               2      1111          NaN   \n",
              "3               3   1000000        زنانه   \n",
              "4               4         0          NaN   \n",
              "...           ...       ...          ...   \n",
              "32723       32723         0          NaN   \n",
              "32724       32724         0          NaN   \n",
              "32725       32725  38280000          NaN   \n",
              "32726       32726         0          NaN   \n",
              "32727       32727  20000000          NaN   \n",
              "\n",
              "                                            description2  \\\n",
              "0      شلوار بیرونی زنانه ،زنانه/مردانه زنانه است.  ش...   \n",
              "1                      این کالا جلو مبلی عسلی چتری است     \n",
              "2      لباس مجلسی دخترانه ،جنس غیره است.  لباس مجلسی ...   \n",
              "3      پیراهن مشکی کوتاه ترک سایز ۳۶-۳۸ ،زنانه/مردانه...   \n",
              "4            این کالا ایمورتال کلاچ اتوماتیک black است     \n",
              "...                                                  ...   \n",
              "32723  این کالا برقکار،برقکار ساختمان،دوربین تعمیرات ...   \n",
              "32724  حسابدار خانم ،ساعات کاری از ۹ تا ۱۷ پنجشنبه‌ها...   \n",
              "32725  نیمست گردنبند  طلا ورساچ E5J194 ،جنس طلا است. ...   \n",
              "32726  اجاره سوییت مبله ،متراژ ۷۰ است.  اجاره سوییت م...   \n",
              "32727             این کالا خرید و خریدار موی طبیعی است     \n",
              "\n",
              "                                       cat2                      cat1  \\\n",
              "0                                      لباس           کیف، کفش و لباس   \n",
              "1                    مبلمان خانگی و میزعسلی        مبلمان و صنایع چوب   \n",
              "2                                   جواهرات        زیورآلات و اکسسوری   \n",
              "3                                      لباس           کیف، کفش و لباس   \n",
              "4              ایمورتال کلاچ اتوماتیک black  قطعات یدکی و لوازم جانبی   \n",
              "...                                     ...                       ...   \n",
              "32723  برقکار،برقکار ساختمان،دوربین تعمیرات              پیشه و مهارت   \n",
              "32724                          حسابدار خانم   مالی و حسابداری و حقوقی   \n",
              "32725                               جواهرات        زیورآلات و اکسسوری   \n",
              "32726                      آپارتمان و سوئیت           اجاره کوتاه مدت   \n",
              "32727               خرید و خریدار موی طبیعی  آرایشی، بهداشتی و درمانی   \n",
              "\n",
              "                                 cat0    نوع لباس  \\\n",
              "0                          وسایل شخصی       شلوار   \n",
              "1                     خانه و آشپزخانه         NaN   \n",
              "2                          وسایل شخصی         NaN   \n",
              "3                          وسایل شخصی  لباس مجلسی   \n",
              "4                         وسایل نقلیه         NaN   \n",
              "...                               ...         ...   \n",
              "32723                           خدمات         NaN   \n",
              "32724  استخدام و کاریابی (غیر رایگان)         NaN   \n",
              "32725                      وسایل شخصی         NaN   \n",
              "32726                           املاک         NaN   \n",
              "32727                      وسایل شخصی         NaN   \n",
              "\n",
              "                                                category  \\\n",
              "0      ['وسایل شخصی', 'کیف، کفش و لباس', 'لباس', 'شلو...   \n",
              "1      ['خانه و آشپزخانه', 'مبلمان و صنایع چوب', 'مبل...   \n",
              "2      ['وسایل شخصی', 'زیورآلات و اکسسوری', 'جواهرات'...   \n",
              "3      ['وسایل شخصی', 'کیف، کفش و لباس', 'لباس', 'پیر...   \n",
              "4      ['وسایل نقلیه', 'قطعات یدکی و لوازم جانبی', 'ا...   \n",
              "...                                                  ...   \n",
              "32723  ['خدمات', 'پیشه و مهارت', 'برقکار،برقکار ساختم...   \n",
              "32724  ['استخدام و کاریابی (غیر رایگان)', 'مالی و حسا...   \n",
              "32725  ['وسایل شخصی', 'زیورآلات و اکسسوری', 'جواهرات'...   \n",
              "32726  ['املاک', 'اجاره کوتاه مدت', 'آپارتمان و سوئیت...   \n",
              "32727  ['وسایل شخصی', 'آرایشی، بهداشتی و درمانی', 'خر...   \n",
              "\n",
              "                                  mainTitle  ... امکان کار در منزل نوع دسته  \\\n",
              "0                        شلوار بیرونی زنانه  ...               NaN      NaN   \n",
              "1                        جلو مبلی عسلی چتری  ...               NaN      NaN   \n",
              "2                        لباس مجلسی دخترانه  ...               NaN      NaN   \n",
              "3          پیراهن مشکی کوتاه ترک سایز ۳۶-۳۸  ...               NaN      NaN   \n",
              "4              ایمورتال کلاچ اتوماتیک black  ...               NaN      NaN   \n",
              "...                                     ...  ...               ...      ...   \n",
              "32723  برقکار،برقکار ساختمان،دوربین تعمیرات  ...               NaN      NaN   \n",
              "32724                          حسابدار خانم  ...               NaN      NaN   \n",
              "32725       نیمست گردنبند  طلا ورساچ E5J194  ...               NaN      NaN   \n",
              "32726                      اجاره سوییت مبله  ...               NaN      NaN   \n",
              "32727               خرید و خریدار موی طبیعی  ...               NaN      NaN   \n",
              "\n",
              "      تعداد شاخه سند اداری شاسی جلو شاسی عقب نوع تجهیزات نوع تجهیزات بازی  \\\n",
              "0            NaN       NaN      NaN      NaN         NaN              NaN   \n",
              "1            NaN       NaN      NaN      NaN         NaN              NaN   \n",
              "2            NaN       NaN      NaN      NaN         NaN              NaN   \n",
              "3            NaN       NaN      NaN      NaN         NaN              NaN   \n",
              "4            NaN       NaN      NaN      NaN         NaN              NaN   \n",
              "...          ...       ...      ...      ...         ...              ...   \n",
              "32723        NaN       NaN      NaN      NaN         NaN              NaN   \n",
              "32724        NaN       NaN      NaN      NaN         NaN              NaN   \n",
              "32725        NaN       NaN      NaN      NaN         NaN              NaN   \n",
              "32726        NaN       NaN      NaN      NaN         NaN              NaN   \n",
              "32727        NaN       NaN      NaN      NaN         NaN              NaN   \n",
              "\n",
              "      جنس کمربند فروشنده  \n",
              "0            NaN     NaN  \n",
              "1            NaN     NaN  \n",
              "2            NaN     NaN  \n",
              "3            NaN     NaN  \n",
              "4            NaN     NaN  \n",
              "...          ...     ...  \n",
              "32723        NaN     NaN  \n",
              "32724        NaN     NaN  \n",
              "32725        NaN     NaN  \n",
              "32726        NaN     NaN  \n",
              "32727        NaN     NaN  \n",
              "\n",
              "[32728 rows x 94 columns]"
            ],
            "text/html": [
              "\n",
              "  <div id=\"df-cddb3932-7789-43ea-b217-88b2dc1971de\">\n",
              "    <div class=\"colab-df-container\">\n",
              "      <div>\n",
              "<style scoped>\n",
              "    .dataframe tbody tr th:only-of-type {\n",
              "        vertical-align: middle;\n",
              "    }\n",
              "\n",
              "    .dataframe tbody tr th {\n",
              "        vertical-align: top;\n",
              "    }\n",
              "\n",
              "    .dataframe thead th {\n",
              "        text-align: right;\n",
              "    }\n",
              "</style>\n",
              "<table border=\"1\" class=\"dataframe\">\n",
              "  <thead>\n",
              "    <tr style=\"text-align: right;\">\n",
              "      <th></th>\n",
              "      <th>Unnamed: 0</th>\n",
              "      <th>price</th>\n",
              "      <th>زنانه/مردانه</th>\n",
              "      <th>description2</th>\n",
              "      <th>cat2</th>\n",
              "      <th>cat1</th>\n",
              "      <th>cat0</th>\n",
              "      <th>نوع لباس</th>\n",
              "      <th>category</th>\n",
              "      <th>mainTitle</th>\n",
              "      <th>...</th>\n",
              "      <th>امکان کار در منزل</th>\n",
              "      <th>نوع دسته</th>\n",
              "      <th>تعداد شاخه</th>\n",
              "      <th>سند اداری</th>\n",
              "      <th>شاسی جلو</th>\n",
              "      <th>شاسی عقب</th>\n",
              "      <th>نوع تجهیزات</th>\n",
              "      <th>نوع تجهیزات بازی</th>\n",
              "      <th>جنس کمربند</th>\n",
              "      <th>فروشنده</th>\n",
              "    </tr>\n",
              "  </thead>\n",
              "  <tbody>\n",
              "    <tr>\n",
              "      <th>0</th>\n",
              "      <td>0</td>\n",
              "      <td>75000</td>\n",
              "      <td>زنانه</td>\n",
              "      <td>شلوار بیرونی زنانه ،زنانه/مردانه زنانه است.  ش...</td>\n",
              "      <td>لباس</td>\n",
              "      <td>کیف، کفش و لباس</td>\n",
              "      <td>وسایل شخصی</td>\n",
              "      <td>شلوار</td>\n",
              "      <td>['وسایل شخصی', 'کیف، کفش و لباس', 'لباس', 'شلو...</td>\n",
              "      <td>شلوار بیرونی زنانه</td>\n",
              "      <td>...</td>\n",
              "      <td>NaN</td>\n",
              "      <td>NaN</td>\n",
              "      <td>NaN</td>\n",
              "      <td>NaN</td>\n",
              "      <td>NaN</td>\n",
              "      <td>NaN</td>\n",
              "      <td>NaN</td>\n",
              "      <td>NaN</td>\n",
              "      <td>NaN</td>\n",
              "      <td>NaN</td>\n",
              "    </tr>\n",
              "    <tr>\n",
              "      <th>1</th>\n",
              "      <td>1</td>\n",
              "      <td>2900000</td>\n",
              "      <td>NaN</td>\n",
              "      <td>این کالا جلو مبلی عسلی چتری است</td>\n",
              "      <td>مبلمان خانگی و میزعسلی</td>\n",
              "      <td>مبلمان و صنایع چوب</td>\n",
              "      <td>خانه و آشپزخانه</td>\n",
              "      <td>NaN</td>\n",
              "      <td>['خانه و آشپزخانه', 'مبلمان و صنایع چوب', 'مبل...</td>\n",
              "      <td>جلو مبلی عسلی چتری</td>\n",
              "      <td>...</td>\n",
              "      <td>NaN</td>\n",
              "      <td>NaN</td>\n",
              "      <td>NaN</td>\n",
              "      <td>NaN</td>\n",
              "      <td>NaN</td>\n",
              "      <td>NaN</td>\n",
              "      <td>NaN</td>\n",
              "      <td>NaN</td>\n",
              "      <td>NaN</td>\n",
              "      <td>NaN</td>\n",
              "    </tr>\n",
              "    <tr>\n",
              "      <th>2</th>\n",
              "      <td>2</td>\n",
              "      <td>1111</td>\n",
              "      <td>NaN</td>\n",
              "      <td>لباس مجلسی دخترانه ،جنس غیره است.  لباس مجلسی ...</td>\n",
              "      <td>جواهرات</td>\n",
              "      <td>زیورآلات و اکسسوری</td>\n",
              "      <td>وسایل شخصی</td>\n",
              "      <td>NaN</td>\n",
              "      <td>['وسایل شخصی', 'زیورآلات و اکسسوری', 'جواهرات'...</td>\n",
              "      <td>لباس مجلسی دخترانه</td>\n",
              "      <td>...</td>\n",
              "      <td>NaN</td>\n",
              "      <td>NaN</td>\n",
              "      <td>NaN</td>\n",
              "      <td>NaN</td>\n",
              "      <td>NaN</td>\n",
              "      <td>NaN</td>\n",
              "      <td>NaN</td>\n",
              "      <td>NaN</td>\n",
              "      <td>NaN</td>\n",
              "      <td>NaN</td>\n",
              "    </tr>\n",
              "    <tr>\n",
              "      <th>3</th>\n",
              "      <td>3</td>\n",
              "      <td>1000000</td>\n",
              "      <td>زنانه</td>\n",
              "      <td>پیراهن مشکی کوتاه ترک سایز ۳۶-۳۸ ،زنانه/مردانه...</td>\n",
              "      <td>لباس</td>\n",
              "      <td>کیف، کفش و لباس</td>\n",
              "      <td>وسایل شخصی</td>\n",
              "      <td>لباس مجلسی</td>\n",
              "      <td>['وسایل شخصی', 'کیف، کفش و لباس', 'لباس', 'پیر...</td>\n",
              "      <td>پیراهن مشکی کوتاه ترک سایز ۳۶-۳۸</td>\n",
              "      <td>...</td>\n",
              "      <td>NaN</td>\n",
              "      <td>NaN</td>\n",
              "      <td>NaN</td>\n",
              "      <td>NaN</td>\n",
              "      <td>NaN</td>\n",
              "      <td>NaN</td>\n",
              "      <td>NaN</td>\n",
              "      <td>NaN</td>\n",
              "      <td>NaN</td>\n",
              "      <td>NaN</td>\n",
              "    </tr>\n",
              "    <tr>\n",
              "      <th>4</th>\n",
              "      <td>4</td>\n",
              "      <td>0</td>\n",
              "      <td>NaN</td>\n",
              "      <td>این کالا ایمورتال کلاچ اتوماتیک black است</td>\n",
              "      <td>ایمورتال کلاچ اتوماتیک black</td>\n",
              "      <td>قطعات یدکی و لوازم جانبی</td>\n",
              "      <td>وسایل نقلیه</td>\n",
              "      <td>NaN</td>\n",
              "      <td>['وسایل نقلیه', 'قطعات یدکی و لوازم جانبی', 'ا...</td>\n",
              "      <td>ایمورتال کلاچ اتوماتیک black</td>\n",
              "      <td>...</td>\n",
              "      <td>NaN</td>\n",
              "      <td>NaN</td>\n",
              "      <td>NaN</td>\n",
              "      <td>NaN</td>\n",
              "      <td>NaN</td>\n",
              "      <td>NaN</td>\n",
              "      <td>NaN</td>\n",
              "      <td>NaN</td>\n",
              "      <td>NaN</td>\n",
              "      <td>NaN</td>\n",
              "    </tr>\n",
              "    <tr>\n",
              "      <th>...</th>\n",
              "      <td>...</td>\n",
              "      <td>...</td>\n",
              "      <td>...</td>\n",
              "      <td>...</td>\n",
              "      <td>...</td>\n",
              "      <td>...</td>\n",
              "      <td>...</td>\n",
              "      <td>...</td>\n",
              "      <td>...</td>\n",
              "      <td>...</td>\n",
              "      <td>...</td>\n",
              "      <td>...</td>\n",
              "      <td>...</td>\n",
              "      <td>...</td>\n",
              "      <td>...</td>\n",
              "      <td>...</td>\n",
              "      <td>...</td>\n",
              "      <td>...</td>\n",
              "      <td>...</td>\n",
              "      <td>...</td>\n",
              "      <td>...</td>\n",
              "    </tr>\n",
              "    <tr>\n",
              "      <th>32723</th>\n",
              "      <td>32723</td>\n",
              "      <td>0</td>\n",
              "      <td>NaN</td>\n",
              "      <td>این کالا برقکار،برقکار ساختمان،دوربین تعمیرات ...</td>\n",
              "      <td>برقکار،برقکار ساختمان،دوربین تعمیرات</td>\n",
              "      <td>پیشه و مهارت</td>\n",
              "      <td>خدمات</td>\n",
              "      <td>NaN</td>\n",
              "      <td>['خدمات', 'پیشه و مهارت', 'برقکار،برقکار ساختم...</td>\n",
              "      <td>برقکار،برقکار ساختمان،دوربین تعمیرات</td>\n",
              "      <td>...</td>\n",
              "      <td>NaN</td>\n",
              "      <td>NaN</td>\n",
              "      <td>NaN</td>\n",
              "      <td>NaN</td>\n",
              "      <td>NaN</td>\n",
              "      <td>NaN</td>\n",
              "      <td>NaN</td>\n",
              "      <td>NaN</td>\n",
              "      <td>NaN</td>\n",
              "      <td>NaN</td>\n",
              "    </tr>\n",
              "    <tr>\n",
              "      <th>32724</th>\n",
              "      <td>32724</td>\n",
              "      <td>0</td>\n",
              "      <td>NaN</td>\n",
              "      <td>حسابدار خانم ،ساعات کاری از ۹ تا ۱۷ پنجشنبه‌ها...</td>\n",
              "      <td>حسابدار خانم</td>\n",
              "      <td>مالی و حسابداری و حقوقی</td>\n",
              "      <td>استخدام و کاریابی (غیر رایگان)</td>\n",
              "      <td>NaN</td>\n",
              "      <td>['استخدام و کاریابی (غیر رایگان)', 'مالی و حسا...</td>\n",
              "      <td>حسابدار خانم</td>\n",
              "      <td>...</td>\n",
              "      <td>NaN</td>\n",
              "      <td>NaN</td>\n",
              "      <td>NaN</td>\n",
              "      <td>NaN</td>\n",
              "      <td>NaN</td>\n",
              "      <td>NaN</td>\n",
              "      <td>NaN</td>\n",
              "      <td>NaN</td>\n",
              "      <td>NaN</td>\n",
              "      <td>NaN</td>\n",
              "    </tr>\n",
              "    <tr>\n",
              "      <th>32725</th>\n",
              "      <td>32725</td>\n",
              "      <td>38280000</td>\n",
              "      <td>NaN</td>\n",
              "      <td>نیمست گردنبند  طلا ورساچ E5J194 ،جنس طلا است. ...</td>\n",
              "      <td>جواهرات</td>\n",
              "      <td>زیورآلات و اکسسوری</td>\n",
              "      <td>وسایل شخصی</td>\n",
              "      <td>NaN</td>\n",
              "      <td>['وسایل شخصی', 'زیورآلات و اکسسوری', 'جواهرات'...</td>\n",
              "      <td>نیمست گردنبند  طلا ورساچ E5J194</td>\n",
              "      <td>...</td>\n",
              "      <td>NaN</td>\n",
              "      <td>NaN</td>\n",
              "      <td>NaN</td>\n",
              "      <td>NaN</td>\n",
              "      <td>NaN</td>\n",
              "      <td>NaN</td>\n",
              "      <td>NaN</td>\n",
              "      <td>NaN</td>\n",
              "      <td>NaN</td>\n",
              "      <td>NaN</td>\n",
              "    </tr>\n",
              "    <tr>\n",
              "      <th>32726</th>\n",
              "      <td>32726</td>\n",
              "      <td>0</td>\n",
              "      <td>NaN</td>\n",
              "      <td>اجاره سوییت مبله ،متراژ ۷۰ است.  اجاره سوییت م...</td>\n",
              "      <td>آپارتمان و سوئیت</td>\n",
              "      <td>اجاره کوتاه مدت</td>\n",
              "      <td>املاک</td>\n",
              "      <td>NaN</td>\n",
              "      <td>['املاک', 'اجاره کوتاه مدت', 'آپارتمان و سوئیت...</td>\n",
              "      <td>اجاره سوییت مبله</td>\n",
              "      <td>...</td>\n",
              "      <td>NaN</td>\n",
              "      <td>NaN</td>\n",
              "      <td>NaN</td>\n",
              "      <td>NaN</td>\n",
              "      <td>NaN</td>\n",
              "      <td>NaN</td>\n",
              "      <td>NaN</td>\n",
              "      <td>NaN</td>\n",
              "      <td>NaN</td>\n",
              "      <td>NaN</td>\n",
              "    </tr>\n",
              "    <tr>\n",
              "      <th>32727</th>\n",
              "      <td>32727</td>\n",
              "      <td>20000000</td>\n",
              "      <td>NaN</td>\n",
              "      <td>این کالا خرید و خریدار موی طبیعی است</td>\n",
              "      <td>خرید و خریدار موی طبیعی</td>\n",
              "      <td>آرایشی، بهداشتی و درمانی</td>\n",
              "      <td>وسایل شخصی</td>\n",
              "      <td>NaN</td>\n",
              "      <td>['وسایل شخصی', 'آرایشی، بهداشتی و درمانی', 'خر...</td>\n",
              "      <td>خرید و خریدار موی طبیعی</td>\n",
              "      <td>...</td>\n",
              "      <td>NaN</td>\n",
              "      <td>NaN</td>\n",
              "      <td>NaN</td>\n",
              "      <td>NaN</td>\n",
              "      <td>NaN</td>\n",
              "      <td>NaN</td>\n",
              "      <td>NaN</td>\n",
              "      <td>NaN</td>\n",
              "      <td>NaN</td>\n",
              "      <td>NaN</td>\n",
              "    </tr>\n",
              "  </tbody>\n",
              "</table>\n",
              "<p>32728 rows × 94 columns</p>\n",
              "</div>\n",
              "      <button class=\"colab-df-convert\" onclick=\"convertToInteractive('df-cddb3932-7789-43ea-b217-88b2dc1971de')\"\n",
              "              title=\"Convert this dataframe to an interactive table.\"\n",
              "              style=\"display:none;\">\n",
              "        \n",
              "  <svg xmlns=\"http://www.w3.org/2000/svg\" height=\"24px\"viewBox=\"0 0 24 24\"\n",
              "       width=\"24px\">\n",
              "    <path d=\"M0 0h24v24H0V0z\" fill=\"none\"/>\n",
              "    <path d=\"M18.56 5.44l.94 2.06.94-2.06 2.06-.94-2.06-.94-.94-2.06-.94 2.06-2.06.94zm-11 1L8.5 8.5l.94-2.06 2.06-.94-2.06-.94L8.5 2.5l-.94 2.06-2.06.94zm10 10l.94 2.06.94-2.06 2.06-.94-2.06-.94-.94-2.06-.94 2.06-2.06.94z\"/><path d=\"M17.41 7.96l-1.37-1.37c-.4-.4-.92-.59-1.43-.59-.52 0-1.04.2-1.43.59L10.3 9.45l-7.72 7.72c-.78.78-.78 2.05 0 2.83L4 21.41c.39.39.9.59 1.41.59.51 0 1.02-.2 1.41-.59l7.78-7.78 2.81-2.81c.8-.78.8-2.07 0-2.86zM5.41 20L4 18.59l7.72-7.72 1.47 1.35L5.41 20z\"/>\n",
              "  </svg>\n",
              "      </button>\n",
              "      \n",
              "  <style>\n",
              "    .colab-df-container {\n",
              "      display:flex;\n",
              "      flex-wrap:wrap;\n",
              "      gap: 12px;\n",
              "    }\n",
              "\n",
              "    .colab-df-convert {\n",
              "      background-color: #E8F0FE;\n",
              "      border: none;\n",
              "      border-radius: 50%;\n",
              "      cursor: pointer;\n",
              "      display: none;\n",
              "      fill: #1967D2;\n",
              "      height: 32px;\n",
              "      padding: 0 0 0 0;\n",
              "      width: 32px;\n",
              "    }\n",
              "\n",
              "    .colab-df-convert:hover {\n",
              "      background-color: #E2EBFA;\n",
              "      box-shadow: 0px 1px 2px rgba(60, 64, 67, 0.3), 0px 1px 3px 1px rgba(60, 64, 67, 0.15);\n",
              "      fill: #174EA6;\n",
              "    }\n",
              "\n",
              "    [theme=dark] .colab-df-convert {\n",
              "      background-color: #3B4455;\n",
              "      fill: #D2E3FC;\n",
              "    }\n",
              "\n",
              "    [theme=dark] .colab-df-convert:hover {\n",
              "      background-color: #434B5C;\n",
              "      box-shadow: 0px 1px 3px 1px rgba(0, 0, 0, 0.15);\n",
              "      filter: drop-shadow(0px 1px 2px rgba(0, 0, 0, 0.3));\n",
              "      fill: #FFFFFF;\n",
              "    }\n",
              "  </style>\n",
              "\n",
              "      <script>\n",
              "        const buttonEl =\n",
              "          document.querySelector('#df-cddb3932-7789-43ea-b217-88b2dc1971de button.colab-df-convert');\n",
              "        buttonEl.style.display =\n",
              "          google.colab.kernel.accessAllowed ? 'block' : 'none';\n",
              "\n",
              "        async function convertToInteractive(key) {\n",
              "          const element = document.querySelector('#df-cddb3932-7789-43ea-b217-88b2dc1971de');\n",
              "          const dataTable =\n",
              "            await google.colab.kernel.invokeFunction('convertToInteractive',\n",
              "                                                     [key], {});\n",
              "          if (!dataTable) return;\n",
              "\n",
              "          const docLinkHtml = 'Like what you see? Visit the ' +\n",
              "            '<a target=\"_blank\" href=https://colab.research.google.com/notebooks/data_table.ipynb>data table notebook</a>'\n",
              "            + ' to learn more about interactive tables.';\n",
              "          element.innerHTML = '';\n",
              "          dataTable['output_type'] = 'display_data';\n",
              "          await google.colab.output.renderOutput(dataTable, element);\n",
              "          const docLink = document.createElement('div');\n",
              "          docLink.innerHTML = docLinkHtml;\n",
              "          element.appendChild(docLink);\n",
              "        }\n",
              "      </script>\n",
              "    </div>\n",
              "  </div>\n",
              "  "
            ]
          },
          "metadata": {},
          "execution_count": 7
        }
      ]
    },
    {
      "cell_type": "code",
      "source": [
        "df2ZeroAndOne = pd.read_csv('dataWithZeroOne.csv')"
      ],
      "metadata": {
        "id": "hiesLEYeCyaV"
      },
      "execution_count": 8,
      "outputs": []
    },
    {
      "cell_type": "code",
      "execution_count": 9,
      "metadata": {
        "id": "riFGLSh1zfOx"
      },
      "outputs": [],
      "source": [
        "df2ZeroAndOne[['description2' , 'description']].to_csv(\"descriptionDataFrame.csv\")"
      ]
    },
    {
      "cell_type": "code",
      "source": [
        "listDelete = ['⚪️' , '♥' , '⬇️' , '⬆️' , '✅' , '⭕️' , '✔️' , '♦️' , '*' , '✨' , '☆' , '✔' ,'⚪' , '☃️' , '☑️' , '✳️' , '⬅️' , '⛔' , '⚜️' , '❌' , 'Ⓜ️' , '✴️' , '✴️' , '♻️' , '⚠️' , '☎' , '⚡' , '❗️' , '✋' , '⛛' , '☘️' , '⏰️' , '♨️' , '_', '__', '___', '____', '______', '__________', '___________',\n",
        "       '____________', '_____________', '______________',\n",
        "       '_______________', '________________', '_________________',\n",
        "       '__________________', '___________________',\n",
        "       '____________________', '_____________________',\n",
        "       '______________________', '_______________________',\n",
        "       '________________________', '_________________________',\n",
        "       '__________________________', '___________________________',\n",
        "       '____________________________', '_____________________________',\n",
        "       '______________________________',\n",
        "       '_______________________________',\n",
        "       '________________________________',\n",
        "       '__________________________________',\n",
        "       '___________________________________',\n",
        "       '____________________________________',\n",
        "       '_____________________________________',\n",
        "       '______________________________________',\n",
        "       '_______________________________________',\n",
        "       '________________________________________',\n",
        "       '____________________________________________',\n",
        "       '_____________________________________________',\n",
        "       '______________________________________________',\n",
        "       '_______________________________________________',]"
      ],
      "metadata": {
        "id": "NCcyJIDhAHk8"
      },
      "execution_count": 10,
      "outputs": []
    },
    {
      "cell_type": "code",
      "source": [
        "dfDescription = df2ZeroAndOne[['description2' , 'description']]"
      ],
      "metadata": {
        "id": "5GPw4XE77AQ6"
      },
      "execution_count": 11,
      "outputs": []
    },
    {
      "cell_type": "code",
      "source": [
        "listDesc1 = list(dfDescription['description2'])\n",
        "listDesc2 = list(dfDescription['description'])\n"
      ],
      "metadata": {
        "id": "_-Vyxbjr7ANO"
      },
      "execution_count": 12,
      "outputs": []
    },
    {
      "cell_type": "code",
      "source": [
        "len(listDesc1)"
      ],
      "metadata": {
        "colab": {
          "base_uri": "https://localhost:8080/"
        },
        "id": "RPrpJqKj7AIt",
        "outputId": "b57ec545-c367-40a4-8e66-201cf6c2ba52"
      },
      "execution_count": 13,
      "outputs": [
        {
          "output_type": "execute_result",
          "data": {
            "text/plain": [
              "32728"
            ]
          },
          "metadata": {},
          "execution_count": 13
        }
      ]
    },
    {
      "cell_type": "code",
      "source": [
        "listAllDescription = []\n",
        "for i in range(len(listDesc1)):\n",
        "  listAllDescription.append(listDesc1[i] + listDesc2[i] )\n"
      ],
      "metadata": {
        "id": "Js6VsykU7ACa"
      },
      "execution_count": 14,
      "outputs": []
    },
    {
      "cell_type": "code",
      "source": [
        "count = 0\n",
        "listAllDescription2 = []\n",
        "for sent in listAllDescription:\n",
        "  count+=1\n",
        "  if count%1000 ==0:\n",
        "    print(count)\n",
        "  for punc in listDelete:\n",
        "    if punc in sent:\n",
        "      # print(punc)\n",
        "      sent = sent.replace(punc , '')\n",
        "  listAllDescription2.append(sent)"
      ],
      "metadata": {
        "colab": {
          "base_uri": "https://localhost:8080/"
        },
        "id": "X0PFAgPV6_-W",
        "outputId": "76ce04cd-283d-4ad7-a962-4774efe40af4"
      },
      "execution_count": 15,
      "outputs": [
        {
          "output_type": "stream",
          "name": "stdout",
          "text": [
            "1000\n",
            "2000\n",
            "3000\n",
            "4000\n",
            "5000\n",
            "6000\n",
            "7000\n",
            "8000\n",
            "9000\n",
            "10000\n",
            "11000\n",
            "12000\n",
            "13000\n",
            "14000\n",
            "15000\n",
            "16000\n",
            "17000\n",
            "18000\n",
            "19000\n",
            "20000\n",
            "21000\n",
            "22000\n",
            "23000\n",
            "24000\n",
            "25000\n",
            "26000\n",
            "27000\n",
            "28000\n",
            "29000\n",
            "30000\n",
            "31000\n",
            "32000\n"
          ]
        }
      ]
    },
    {
      "cell_type": "code",
      "source": [
        "listPunc = ['!' , \"@\" , \"#\" , '$' , '%' , '^' , '&' , '*' , '(' , ')' , \"-\" , '_' , '+' , '=' , '?' , '>' , '<']"
      ],
      "metadata": {
        "id": "oGPTm7DFExzd"
      },
      "execution_count": 16,
      "outputs": []
    },
    {
      "cell_type": "code",
      "source": [
        "count = 0\n",
        "listAllDescription3 = []\n",
        "for sent in listAllDescription2:\n",
        "  count+=1\n",
        "  if count%1000 ==0:\n",
        "    print(count)\n",
        "  for punc in listPunc:\n",
        "    if punc in sent:\n",
        "      sent = sent.replace(punc , ' ')\n",
        "  listAllDescription3.append(sent)"
      ],
      "metadata": {
        "colab": {
          "base_uri": "https://localhost:8080/"
        },
        "id": "ZTVhPA6N6_8I",
        "outputId": "5b763bbe-9ec0-4026-fc10-026d8fdb4877"
      },
      "execution_count": 17,
      "outputs": [
        {
          "output_type": "stream",
          "name": "stdout",
          "text": [
            "1000\n",
            "2000\n",
            "3000\n",
            "4000\n",
            "5000\n",
            "6000\n",
            "7000\n",
            "8000\n",
            "9000\n",
            "10000\n",
            "11000\n",
            "12000\n",
            "13000\n",
            "14000\n",
            "15000\n",
            "16000\n",
            "17000\n",
            "18000\n",
            "19000\n",
            "20000\n",
            "21000\n",
            "22000\n",
            "23000\n",
            "24000\n",
            "25000\n",
            "26000\n",
            "27000\n",
            "28000\n",
            "29000\n",
            "30000\n",
            "31000\n",
            "32000\n"
          ]
        }
      ]
    },
    {
      "cell_type": "code",
      "source": [
        "listAllDescription = listAllDescription3"
      ],
      "metadata": {
        "id": "wy6ySS2fFuTt"
      },
      "execution_count": 18,
      "outputs": []
    },
    {
      "cell_type": "code",
      "source": [
        "normalizer = Normalizer()\n",
        "tokens = [[word_tokenize(sent) for sent in sents] for sents in [sent_tokenize(x) for x in [normalizer.normalize(desc) for desc in listAllDescription]]]\n"
      ],
      "metadata": {
        "id": "nBfpodEBFwsm"
      },
      "execution_count": 19,
      "outputs": []
    },
    {
      "cell_type": "code",
      "source": [
        "descriptions = []\n",
        "for desc in tokens:\n",
        "    descText = ''\n",
        "    for sent in desc:\n",
        "        for token in sent:\n",
        "                descText = descText + token + \" \" \n",
        "    descriptions.append(descText)"
      ],
      "metadata": {
        "id": "wvFEQ7GD2sc8"
      },
      "execution_count": 20,
      "outputs": []
    },
    {
      "cell_type": "code",
      "source": [
        "from sklearn.feature_extraction.text import TfidfVectorizer\n",
        "tfIdfModel = TfidfVectorizer()\n",
        "tfIdfOutput = tfIdfModel.fit_transform(descriptions)\n",
        "words = tfIdfModel.get_feature_names_out()\n"
      ],
      "metadata": {
        "id": "TczNwpMpH-0C"
      },
      "execution_count": 21,
      "outputs": []
    },
    {
      "cell_type": "code",
      "source": [
        "df_tf_idf = pd.DataFrame(tfIdfOutput.toarray(), columns = list(words))\n"
      ],
      "metadata": {
        "id": "fy9QJeND6KFr"
      },
      "execution_count": 22,
      "outputs": []
    },
    {
      "cell_type": "code",
      "source": [
        "listCount = []\n",
        "count2 = 0\n",
        "for column in df_tf_idf.columns:\n",
        "  count2+=1\n",
        "  if count2%10 ==0:\n",
        "    print(count2)\n",
        "  count = 0\n",
        "  listtf = list(df_tf_idf[column])\n",
        "  for i in listtf:\n",
        "    if i != 0:\n",
        "      count+=1\n",
        "  listCount.append(count)\n"
      ],
      "metadata": {
        "id": "SfXkz3d-dVjM"
      },
      "execution_count": null,
      "outputs": []
    },
    {
      "cell_type": "code",
      "source": [
        "import pickle"
      ],
      "metadata": {
        "id": "OdNOqc0jd6G7"
      },
      "execution_count": 24,
      "outputs": []
    },
    {
      "cell_type": "code",
      "source": [
        "import pickle\n",
        "\n",
        "with open(\"listFrequencyTfIdf\", \"wb\") as fp:   #Pickling\n",
        "  pickle.dump(listCount, fp)\n",
        "\n"
      ],
      "metadata": {
        "id": "hlJpA_FiOWpa"
      },
      "execution_count": 56,
      "outputs": []
    },
    {
      "cell_type": "code",
      "source": [
        "with open(\"listFrequencyTfIdf\", \"rb\") as fp:   # Unpickling\n",
        "  listCount = pickle.load(fp)"
      ],
      "metadata": {
        "id": "lhsXD22MOaNa"
      },
      "execution_count": 25,
      "outputs": []
    },
    {
      "cell_type": "code",
      "source": [
        "count3 = 0\n",
        "listidx = []\n",
        "for i in range(len(listCount)):\n",
        "  if listCount[i] < 10:\n",
        "    listidx.append(i)\n",
        "    count3+=1\n",
        "count3"
      ],
      "metadata": {
        "colab": {
          "base_uri": "https://localhost:8080/"
        },
        "id": "Vf8qz7b3gfb0",
        "outputId": "b57efc1f-5c74-49ab-8371-62b433b03b09"
      },
      "execution_count": 26,
      "outputs": [
        {
          "output_type": "execute_result",
          "data": {
            "text/plain": [
              "39442"
            ]
          },
          "metadata": {},
          "execution_count": 26
        }
      ]
    },
    {
      "cell_type": "code",
      "source": [
        "listdrop = []\n",
        "for id in listidx:\n",
        "  listdrop.append(df_tf_idf.columns[id])\n"
      ],
      "metadata": {
        "id": "0dxSQ22ahdYp"
      },
      "execution_count": 27,
      "outputs": []
    },
    {
      "cell_type": "code",
      "source": [
        "df_tf_idf.drop(listdrop, inplace=True, axis=1)"
      ],
      "metadata": {
        "id": "-ut5gGJWhGAo"
      },
      "execution_count": 28,
      "outputs": []
    },
    {
      "cell_type": "markdown",
      "source": [
        "# pca for zeroAndOne"
      ],
      "metadata": {
        "id": "n-EVeZ9BPsKl"
      }
    },
    {
      "cell_type": "code",
      "source": [
        "dfZeroOne = pd.read_csv(\"dataJustZeroOne.csv\")"
      ],
      "metadata": {
        "id": "WhbBUnHg90fc"
      },
      "execution_count": 29,
      "outputs": []
    },
    {
      "cell_type": "code",
      "source": [
        "standardedZeroOne = StandardScaler().fit_transform(dfZeroOne)"
      ],
      "metadata": {
        "id": "jC9GQEZ_NCtM"
      },
      "execution_count": 31,
      "outputs": []
    },
    {
      "cell_type": "code",
      "source": [
        "pca = PCA(20)\n",
        "pca.fit(standardedZeroOne)\n",
        "pcaZeroOne = pca.transform(standardedZeroOne)"
      ],
      "metadata": {
        "id": "lNOZqKB7JEq4"
      },
      "execution_count": 32,
      "outputs": []
    },
    {
      "cell_type": "code",
      "source": [
        "column_values = []\n",
        "for i in range(20):\n",
        "  column_values.append(\"pcaZeroOne\" + str(i))\n",
        "\n",
        "dfPcaZeroOne = pd.DataFrame(data = pcaZeroOne, \n",
        "                  columns = column_values)\n",
        "\n",
        "dfPcaZeroOne.to_csv('dfPcaZeroOne.csv')"
      ],
      "metadata": {
        "id": "GbQgTScN-42T"
      },
      "execution_count": 35,
      "outputs": []
    },
    {
      "cell_type": "code",
      "source": [
        "listLabel = list(df2ZeroAndOne['cat0'])\n",
        "encoder = LabelEncoder()\n",
        "labels = encoder.fit_transform(listLabel)\n",
        "labels"
      ],
      "metadata": {
        "colab": {
          "base_uri": "https://localhost:8080/"
        },
        "id": "GnCsWKbSPEAk",
        "outputId": "b1bee4fc-67d7-4441-aa03-a1b7a552f387"
      },
      "execution_count": 30,
      "outputs": [
        {
          "output_type": "execute_result",
          "data": {
            "text/plain": [
              "array([7, 4, 7, ..., 7, 2, 7])"
            ]
          },
          "metadata": {},
          "execution_count": 30
        }
      ]
    },
    {
      "cell_type": "markdown",
      "source": [
        "# pca for tf-idf"
      ],
      "metadata": {
        "id": "RXTXPsEM_5qD"
      }
    },
    {
      "cell_type": "code",
      "source": [
        "pca = PCA(80)\n",
        "pca.fit(df_tf_idf)\n",
        "pcaTfIdf = pca.transform(df_tf_idf)"
      ],
      "metadata": {
        "id": "b13O2vnb_-i0"
      },
      "execution_count": 33,
      "outputs": []
    },
    {
      "cell_type": "code",
      "source": [
        "column_values = []\n",
        "for i in range(80):\n",
        "  column_values.append(\"pcaTfIdf\" + str(i))\n",
        "\n",
        "dfPcaTfIdf = pd.DataFrame(data = pcaTfIdf, \n",
        "                  columns = column_values)\n",
        "dfPcaTfIdf.to_csv('dfPcaTfIdf.csv')"
      ],
      "metadata": {
        "id": "3r6BFW7F_-aS"
      },
      "execution_count": 37,
      "outputs": []
    },
    {
      "cell_type": "markdown",
      "source": [
        "# lda for zeroAndOne"
      ],
      "metadata": {
        "id": "m3EaX7J6A9_-"
      }
    },
    {
      "cell_type": "code",
      "source": [
        "from sklearn.model_selection import train_test_split\n",
        "X_train , X_test , Y_train , Y_test = train_test_split(dfZeroOne, labels , test_size = 0.2 )"
      ],
      "metadata": {
        "id": "fOepAUzJBCBu"
      },
      "execution_count": 38,
      "outputs": []
    },
    {
      "cell_type": "code",
      "source": [
        "from sklearn.discriminant_analysis import LinearDiscriminantAnalysis as lda\n",
        "ldaf = lda(n_components = 5)\n",
        "ldaf.fit(X_train , Y_train)\n",
        "featureTrain = ldaf.transform(X_train)\n",
        "featureTest = ldaf.transform(X_test)\n",
        "LdaZeroOnenp = np.concatenate((featureTrain, featureTest), axis=0)\n",
        "column_values = []\n",
        "for i in range(5):\n",
        "  column_values.append(\"LdaZeroOne\" + str(i))\n",
        "\n",
        "dfLdaZeroOnenp = pd.DataFrame(data = LdaZeroOnenp, \n",
        "                  columns = column_values)\n",
        "dfLdaZeroOnenp.to_csv('dfLdaZeroOnenp.csv')"
      ],
      "metadata": {
        "id": "-GPuTPq8Be4z"
      },
      "execution_count": 39,
      "outputs": []
    },
    {
      "cell_type": "markdown",
      "source": [
        "# merge lda and pca"
      ],
      "metadata": {
        "id": "NgsqqUZ3Dz6W"
      }
    },
    {
      "cell_type": "code",
      "source": [
        "PcaLdaDf = pd.concat([dfPcaTfIdf , dfPcaZeroOne , dfLdaZeroOnenp ] , axis = 1)"
      ],
      "metadata": {
        "id": "bnSrAGgdD36f"
      },
      "execution_count": 40,
      "outputs": []
    },
    {
      "cell_type": "code",
      "source": [
        "PcaLdaDf.to_csv('PcaLdaDf.csv')"
      ],
      "metadata": {
        "id": "psXOVd41EGe1"
      },
      "execution_count": 41,
      "outputs": []
    },
    {
      "cell_type": "markdown",
      "source": [
        "# TSNE for zeroOne"
      ],
      "metadata": {
        "id": "C1pEU0e3Fu_k"
      }
    },
    {
      "cell_type": "code",
      "source": [
        "from sklearn.manifold import TSNE\n",
        "X_embedded = TSNE(n_components=3, learning_rate='auto',init='random', perplexity=30 ,  random_state=30).fit_transform(dfZeroOne)"
      ],
      "metadata": {
        "id": "f2M1QPEZk90A"
      },
      "execution_count": 37,
      "outputs": []
    },
    {
      "cell_type": "code",
      "source": [
        "X_embedded.shape"
      ],
      "metadata": {
        "id": "vyJ9kh3Yk9xI",
        "colab": {
          "base_uri": "https://localhost:8080/"
        },
        "outputId": "20ad82fc-d38b-43fc-a6ec-a0353bcd6335"
      },
      "execution_count": 33,
      "outputs": [
        {
          "output_type": "execute_result",
          "data": {
            "text/plain": [
              "(32728, 2)"
            ]
          },
          "metadata": {},
          "execution_count": 33
        }
      ]
    },
    {
      "cell_type": "code",
      "source": [
        "column_values = []\n",
        "for i in range(3):\n",
        "  column_values.append(\"TSNEZeroOne\" + str(i))\n",
        "\n",
        "dfTSNEZeroOne= pd.DataFrame(data = X_embedded, \n",
        "                  columns = column_values)\n",
        "dfTSNEZeroOne.to_csv('TSNEZeroOne.csv')"
      ],
      "metadata": {
        "id": "fP0wQRbRhwyR"
      },
      "execution_count": 39,
      "outputs": []
    }
  ],
  "metadata": {
    "kernelspec": {
      "display_name": "Python 3",
      "language": "python",
      "name": "python3"
    },
    "language_info": {
      "codemirror_mode": {
        "name": "ipython",
        "version": 3
      },
      "file_extension": ".py",
      "mimetype": "text/x-python",
      "name": "python",
      "nbconvert_exporter": "python",
      "pygments_lexer": "ipython3",
      "version": "3.11.0"
    },
    "orig_nbformat": 4,
    "vscode": {
      "interpreter": {
        "hash": "690cad38496d1398ea9970723e60c0682ca6aa6888047dbdcd9b0e7d891076e7"
      }
    },
    "colab": {
      "provenance": []
    },
    "gpuClass": "standard"
  },
  "nbformat": 4,
  "nbformat_minor": 0
}