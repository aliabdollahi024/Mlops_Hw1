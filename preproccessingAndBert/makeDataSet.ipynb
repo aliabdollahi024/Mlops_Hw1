{
  "cells": [
    {
      "cell_type": "markdown",
      "metadata": {
        "id": "7lkWNM6Gr6tQ"
      },
      "source": [
        "# make dataset from crawled advertisements"
      ]
    },
    {
      "cell_type": "code",
      "execution_count": 1,
      "metadata": {
        "colab": {
          "base_uri": "https://localhost:8080/"
        },
        "id": "w-BZH-skPNW5",
        "outputId": "ab94e648-1d41-4679-9b40-6cffdaa5d8c2"
      },
      "outputs": [
        {
          "name": "stdout",
          "output_type": "stream",
          "text": [
            "Downloading...\n",
            "From: https://drive.google.com/uc?id=1uPhn_pg_-aJNiAxm60Rpwb0MbzxzGNQ6\n",
            "To: /content/mlops.zip\n",
            "100% 11.9M/11.9M [00:00<00:00, 17.7MB/s]\n"
          ]
        }
      ],
      "source": [
        "!gdown --fuzzy https://drive.google.com/file/d/1uPhn_pg_-aJNiAxm60Rpwb0MbzxzGNQ6/view?usp=sharing"
      ]
    },
    {
      "cell_type": "code",
      "execution_count": 2,
      "metadata": {
        "colab": {
          "base_uri": "https://localhost:8080/"
        },
        "id": "ERO92oBpPNUc",
        "outputId": "aefaecd7-fc06-4f32-e82f-fce9b0ddd34e"
      },
      "outputs": [
        {
          "name": "stdout",
          "output_type": "stream",
          "text": [
            "Archive:  mlops.zip\n",
            "  inflating: outputfile7.json        \n",
            "  inflating: outputfile              \n",
            "  inflating: outputfile.json         \n",
            "  inflating: outputfile2.json        \n",
            "  inflating: outputfile4.json        \n",
            "  inflating: outputfile5.json        \n",
            "  inflating: outputfile6.json        \n"
          ]
        }
      ],
      "source": [
        "!unzip mlops.zip"
      ]
    },
    {
      "cell_type": "code",
      "execution_count": 1,
      "metadata": {
        "id": "I29o9602zfOe"
      },
      "outputs": [],
      "source": [
        "import json\n",
        "import pandas as pd\n",
        "import numpy as np\n",
        "from keras.utils import pad_sequences\n",
        "import torch\n",
        "import torchvision\n",
        "from google.colab import drive"
      ]
    },
    {
      "cell_type": "code",
      "execution_count": 2,
      "metadata": {
        "id": "d0_hVOYgzfOf"
      },
      "outputs": [],
      "source": [
        "data = []\n",
        "f = open('outputfile.json')\n",
        "data += json.load(f)\n",
        "for i in range(2 , 8):\n",
        "    if i!=3:\n",
        "        f = open(f'outputfile{i}.json')\n",
        "        data+= json.load(f)"
      ]
    },
    {
      "cell_type": "code",
      "execution_count": 3,
      "metadata": {
        "colab": {
          "base_uri": "https://localhost:8080/"
        },
        "id": "FkyySBMkzfOf",
        "outputId": "a5fd0d52-9c13-45f7-d123-d34113bb4f66"
      },
      "outputs": [
        {
          "data": {
            "text/plain": [
              "32728"
            ]
          },
          "execution_count": 3,
          "metadata": {},
          "output_type": "execute_result"
        }
      ],
      "source": [
        "listKala = []\n",
        "for i in data:\n",
        "    if i['category']!= [] :\n",
        "        if 'mainTitle' in i.keys():\n",
        "            if type(i['mainTitle']) == str:\n",
        "    # and type(i['mainTitle']) =='str':\n",
        "                listKala.append(i)\n",
        "len(listKala)"
      ]
    },
    {
      "cell_type": "code",
      "execution_count": 4,
      "metadata": {
        "colab": {
          "base_uri": "https://localhost:8080/"
        },
        "id": "rVyGrvOTzfOg",
        "outputId": "2cece7ab-da0e-46f5-8a00-3c5ebd38ab46"
      },
      "outputs": [
        {
          "data": {
            "text/plain": [
              "89"
            ]
          },
          "execution_count": 4,
          "metadata": {},
          "output_type": "execute_result"
        }
      ],
      "source": [
        "df = pd.DataFrame(listKala)\n",
        "col = df.columns\n",
        "colum1 = df.columns\n",
        "listdrop = ['نوع آگهی' , 'آخرین به‌روزرسانی آگهی' , 'نوع کالا' , 'شیوهٔ پرداخت' , 'آگهی‌دهنده' , 'وضعیت' , 'link']\n",
        "df.drop(listdrop, inplace=True, axis=1)\n",
        "len(df.columns)"
      ]
    },
    {
      "cell_type": "code",
      "execution_count": 5,
      "metadata": {
        "id": "XcS9AJVnzfOn"
      },
      "outputs": [],
      "source": [
        "cat0 = [cat[0] for cat in list(df['category'])] \n",
        "cat1 = [cat[1] for cat in list(df['category'])]\n",
        "cat2 = []\n",
        "for cat in list(df['category']):\n",
        "    if len(cat) < 3:\n",
        "        cat2.append(\"not\")\n",
        "    else:\n",
        "        cat2.append(cat[2])\n",
        "df.insert(loc=1, column=\"cat0\", value=cat0)\n",
        "df.insert(loc=1, column=\"cat1\", value=cat1)\n",
        "df.insert(loc=1, column=\"cat2\", value=cat2) \n",
        "keys = df.columns"
      ]
    },
    {
      "cell_type": "markdown",
      "metadata": {
        "id": "TTNLLFXCums8"
      },
      "source": [
        "# make second description from other feautures"
      ]
    },
    {
      "cell_type": "code",
      "execution_count": 6,
      "metadata": {
        "id": "1ILYLu9UzfOq"
      },
      "outputs": [],
      "source": [
        "notMaking = ['وضعیت' , 'description' , 'secondTitle' , 'category' , 'قیمت'  , 'link' , 'mainTitle' , 'cat0' , 'cat1' , 'cat2'  ]\n",
        "listOfDescriptions = []\n",
        "for idx , row in df.iterrows():\n",
        "    listOfSentences = []  \n",
        "    for key in keys:\n",
        "        if key not in notMaking and type(row[key])== str :\n",
        "            sentence = row['mainTitle'] + \" ،\"+ key + \" \" + str(row[key])+\" است. \" \n",
        "            listOfSentences.append(sentence)\n",
        "    listOfSentences.append('این کالا ' + row['mainTitle'] + ' است ')\n",
        "    madeSentence = ''\n",
        "    for sentence in listOfSentences:\n",
        "        madeSentence = madeSentence + sentence + ' '\n",
        "    listOfDescriptions.append(madeSentence)\n",
        "df.insert(loc=1, column=\"description2\", value=listOfDescriptions)"
      ]
    },
    {
      "cell_type": "code",
      "execution_count": null,
      "metadata": {
        "id": "LDu7-JEOqi0j"
      },
      "outputs": [],
      "source": [
        "df.to_csv('advertisementData.csv')"
      ]
    },
    {
      "cell_type": "markdown",
      "metadata": {
        "id": "LdStyJffscZx"
      },
      "source": [
        "# change most of features to zeroOne"
      ]
    },
    {
      "cell_type": "code",
      "execution_count": 7,
      "metadata": {
        "id": "3zLZkx-UzfOs"
      },
      "outputs": [],
      "source": [
        "notMakingZeroAndOne = [ 'description2' , 'قیمت' , 'category' , 'secondTitle' , 'description' , 'mainTitle'  , 'cat0' , 'cat1' , 'cat2' ]"
      ]
    },
    {
      "cell_type": "code",
      "execution_count": 8,
      "metadata": {
        "id": "juxNBVBLzfOt"
      },
      "outputs": [],
      "source": [
        "df2ZeroAndOne= df.copy()"
      ]
    },
    {
      "cell_type": "code",
      "execution_count": 9,
      "metadata": {
        "id": "PYwjgZMKzfOu"
      },
      "outputs": [],
      "source": [
        "for column in df2ZeroAndOne.columns:\n",
        "    if column not in notMakingZeroAndOne:\n",
        "        df2ZeroAndOne[column] = df2ZeroAndOne[column].replace(np.nan, 0)\n",
        "        # df2ZeroAndOne[column] = np.where(df2ZeroAndOne[column]== 0 , 0, 1)\n"
      ]
    },
    {
      "cell_type": "code",
      "execution_count": 10,
      "metadata": {
        "id": "PsUkkt4ZzfOv"
      },
      "outputs": [],
      "source": [
        "for column in df2ZeroAndOne.columns:\n",
        "    if column not in notMakingZeroAndOne:\n",
        "        # df2ZeroAndOne[column] = df2ZeroAndOne[column].replace(np.nan, 0)\n",
        "        df2ZeroAndOne[column] = np.where(df2ZeroAndOne[column]== 0 , 0, 1)"
      ]
    },
    {
      "cell_type": "code",
      "execution_count": 11,
      "metadata": {
        "id": "mGNfHsx3zfOw"
      },
      "outputs": [],
      "source": [
        "listZeroOne = []\n",
        "for col in df2ZeroAndOne.columns:\n",
        "    if col not in notMakingZeroAndOne:\n",
        "        listZeroOne.append(col)\n",
        "\n",
        "\n",
        "dfZeroOne = df2ZeroAndOne[listZeroOne]"
      ]
    },
    {
      "cell_type": "code",
      "execution_count": 12,
      "metadata": {
        "id": "qBr7pc8qpxsB"
      },
      "outputs": [],
      "source": [
        "descriptions2 = list(df2ZeroAndOne['description2'])\n",
        "descriptions = list(df2ZeroAndOne['description'])\n",
        "title = list(df2ZeroAndOne['mainTitle'])"
      ]
    },
    {
      "cell_type": "code",
      "execution_count": 13,
      "metadata": {
        "id": "6-8ew71ErL9T"
      },
      "outputs": [],
      "source": [
        "dfZeroOne.to_csv('dataJustZeroOne.csv')"
      ]
    },
    {
      "cell_type": "code",
      "execution_count": 14,
      "metadata": {
        "id": "4uRwcT-jrYKy"
      },
      "outputs": [],
      "source": [
        "df2ZeroAndOne.to_csv('dataWithZeroOne.csv')"
      ]
    },
    {
      "cell_type": "markdown",
      "metadata": {
        "id": "wzp3DPiusoNH"
      },
      "source": [
        "# take cls embedding from bert for main description and made description"
      ]
    },
    {
      "cell_type": "code",
      "execution_count": 15,
      "metadata": {
        "colab": {
          "base_uri": "https://localhost:8080/"
        },
        "id": "QNdq4KZQu5nA",
        "outputId": "267e898f-5eb3-4e02-e24b-d8d8c13f9c3d"
      },
      "outputs": [
        {
          "name": "stdout",
          "output_type": "stream",
          "text": [
            "Looking in indexes: https://pypi.org/simple, https://us-python.pkg.dev/colab-wheels/public/simple/\n",
            "Requirement already satisfied: transformers in /usr/local/lib/python3.9/dist-packages (4.28.1)\n",
            "Requirement already satisfied: tqdm>=4.27 in /usr/local/lib/python3.9/dist-packages (from transformers) (4.65.0)\n",
            "Requirement already satisfied: packaging>=20.0 in /usr/local/lib/python3.9/dist-packages (from transformers) (23.0)\n",
            "Requirement already satisfied: pyyaml>=5.1 in /usr/local/lib/python3.9/dist-packages (from transformers) (6.0)\n",
            "Requirement already satisfied: filelock in /usr/local/lib/python3.9/dist-packages (from transformers) (3.11.0)\n",
            "Requirement already satisfied: huggingface-hub<1.0,>=0.11.0 in /usr/local/lib/python3.9/dist-packages (from transformers) (0.13.4)\n",
            "Requirement already satisfied: requests in /usr/local/lib/python3.9/dist-packages (from transformers) (2.27.1)\n",
            "Requirement already satisfied: numpy>=1.17 in /usr/local/lib/python3.9/dist-packages (from transformers) (1.22.4)\n",
            "Requirement already satisfied: tokenizers!=0.11.3,<0.14,>=0.11.1 in /usr/local/lib/python3.9/dist-packages (from transformers) (0.13.3)\n",
            "Requirement already satisfied: regex!=2019.12.17 in /usr/local/lib/python3.9/dist-packages (from transformers) (2022.10.31)\n",
            "Requirement already satisfied: typing-extensions>=3.7.4.3 in /usr/local/lib/python3.9/dist-packages (from huggingface-hub<1.0,>=0.11.0->transformers) (4.5.0)\n",
            "Requirement already satisfied: certifi>=2017.4.17 in /usr/local/lib/python3.9/dist-packages (from requests->transformers) (2022.12.7)\n",
            "Requirement already satisfied: idna<4,>=2.5 in /usr/local/lib/python3.9/dist-packages (from requests->transformers) (3.4)\n",
            "Requirement already satisfied: urllib3<1.27,>=1.21.1 in /usr/local/lib/python3.9/dist-packages (from requests->transformers) (1.26.15)\n",
            "Requirement already satisfied: charset-normalizer~=2.0.0 in /usr/local/lib/python3.9/dist-packages (from requests->transformers) (2.0.12)\n"
          ]
        }
      ],
      "source": [
        "!pip install transformers"
      ]
    },
    {
      "cell_type": "code",
      "execution_count": 16,
      "metadata": {
        "colab": {
          "base_uri": "https://localhost:8080/"
        },
        "id": "W2xwELEHmBwp",
        "outputId": "e3e657a0-86ab-44a4-d32e-64086efd3e59"
      },
      "outputs": [
        {
          "name": "stderr",
          "output_type": "stream",
          "text": [
            "Some weights of the model checkpoint at HooshvareLab/bert-base-parsbert-uncased were not used when initializing BertModel: ['cls.predictions.bias', 'cls.predictions.decoder.weight', 'cls.predictions.transform.LayerNorm.weight', 'cls.predictions.transform.LayerNorm.bias', 'cls.predictions.transform.dense.weight', 'cls.predictions.transform.dense.bias', 'cls.seq_relationship.bias', 'cls.predictions.decoder.bias', 'cls.seq_relationship.weight']\n",
            "- This IS expected if you are initializing BertModel from the checkpoint of a model trained on another task or with another architecture (e.g. initializing a BertForSequenceClassification model from a BertForPreTraining model).\n",
            "- This IS NOT expected if you are initializing BertModel from the checkpoint of a model that you expect to be exactly identical (initializing a BertForSequenceClassification model from a BertForSequenceClassification model).\n"
          ]
        }
      ],
      "source": [
        "from transformers import AutoConfig, AutoTokenizer, AutoModel\n",
        "\n",
        "config = AutoConfig.from_pretrained(\"HooshvareLab/bert-base-parsbert-uncased\")\n",
        "tokenizer = AutoTokenizer.from_pretrained(\"HooshvareLab/bert-base-parsbert-uncased\")\n",
        "model = AutoModel.from_pretrained(\"HooshvareLab/bert-base-parsbert-uncased\" )"
      ]
    },
    {
      "cell_type": "code",
      "execution_count": 17,
      "metadata": {
        "id": "2YUcrbG-zfO5"
      },
      "outputs": [],
      "source": [
        "input_tokens = []\n",
        "for i in range(len(descriptions2)):\n",
        "  input_tokens.append(tokenizer.encode(descriptions2[i], add_special_tokens=True))"
      ]
    },
    {
      "cell_type": "code",
      "execution_count": 18,
      "metadata": {
        "colab": {
          "base_uri": "https://localhost:8080/"
        },
        "id": "gdLAVnI4zfO5",
        "outputId": "ff493e34-055a-4bbc-8acb-792bf0cab5e8"
      },
      "outputs": [
        {
          "data": {
            "text/plain": [
              "330"
            ]
          },
          "execution_count": 18,
          "metadata": {},
          "output_type": "execute_result"
        }
      ],
      "source": [
        "len(input_tokens)\n",
        "temp = []\n",
        "for i in input_tokens:\n",
        "  #print(len(i))\n",
        "  temp.append(len(i))\n",
        "np.max(temp) "
      ]
    },
    {
      "cell_type": "code",
      "execution_count": 19,
      "metadata": {
        "id": "R8qgHJu2srb2"
      },
      "outputs": [],
      "source": [
        "input_ids = pad_sequences(input_tokens, maxlen=340, dtype=\"long\", value=0, truncating=\"post\", padding=\"post\")"
      ]
    },
    {
      "cell_type": "code",
      "execution_count": 20,
      "metadata": {
        "id": "OhWwJEJMtZhS"
      },
      "outputs": [],
      "source": [
        "def create_attention_mask(input_id):\n",
        "  attention_masks = []\n",
        "  for sent in input_ids:\n",
        "    att_mask = [int(token_id > 0) for token_id in sent]  # create a list of 0 and 1.\n",
        "    attention_masks.append(att_mask)  # basically attention_masks is a list of list\n",
        "  return attention_masks"
      ]
    },
    {
      "cell_type": "code",
      "execution_count": 21,
      "metadata": {
        "id": "N0UVHvDLpKfI"
      },
      "outputs": [],
      "source": [
        "input_masks = create_attention_mask(input_ids)"
      ]
    },
    {
      "cell_type": "code",
      "execution_count": 26,
      "metadata": {
        "id": "wbT3sVCOtZeE"
      },
      "outputs": [],
      "source": [
        "\n",
        "input_ids = torch.tensor(input_ids).to('cuda:0')\n",
        "attention_mask = torch.tensor(input_masks).to('cuda:0')"
      ]
    },
    {
      "cell_type": "code",
      "execution_count": null,
      "metadata": {
        "id": "OR8-vZwItZZp"
      },
      "outputs": [],
      "source": [
        "listFeatures = []\n",
        "listMainFeatures = []\n",
        "model = model.to('cuda:0')\n",
        "with torch.no_grad():\n",
        "    last_hidden_states = model(input_ids, attention_mask = attention_mask)\n",
        "    listFeatures.append(last_hidden_states[0][:,0,:])\n"
      ]
    },
    {
      "cell_type": "code",
      "execution_count": null,
      "metadata": {
        "id": "VqKIIo1uyKwn"
      },
      "outputs": [],
      "source": [
        "torch.save(listFeatures , 'listMain.pt')"
      ]
    }
  ],
  "metadata": {
    "accelerator": "GPU",
    "colab": {
      "provenance": []
    },
    "gpuClass": "standard",
    "kernelspec": {
      "display_name": "Python 3",
      "language": "python",
      "name": "python3"
    },
    "language_info": {
      "codemirror_mode": {
        "name": "ipython",
        "version": 3
      },
      "file_extension": ".py",
      "mimetype": "text/x-python",
      "name": "python",
      "nbconvert_exporter": "python",
      "pygments_lexer": "ipython3",
      "version": "3.11.0"
    },
    "orig_nbformat": 4,
    "vscode": {
      "interpreter": {
        "hash": "690cad38496d1398ea9970723e60c0682ca6aa6888047dbdcd9b0e7d891076e7"
      }
    }
  },
  "nbformat": 4,
  "nbformat_minor": 0
}
